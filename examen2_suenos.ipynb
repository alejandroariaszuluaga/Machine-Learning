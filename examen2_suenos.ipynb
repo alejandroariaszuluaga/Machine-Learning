{
  "nbformat": 4,
  "nbformat_minor": 0,
  "metadata": {
    "colab": {
      "name": "examen2_suenos.ipynb",
      "provenance": [],
      "collapsed_sections": [],
      "include_colab_link": true
    },
    "kernelspec": {
      "name": "python3",
      "display_name": "Python 3"
    }
  },
  "cells": [
    {
      "cell_type": "markdown",
      "metadata": {
        "id": "view-in-github",
        "colab_type": "text"
      },
      "source": [
        "<a href=\"https://colab.research.google.com/github/alejandroariaszuluaga/Machine-Learning/blob/master/examen2_suenos.ipynb\" target=\"_parent\"><img src=\"https://colab.research.google.com/assets/colab-badge.svg\" alt=\"Open In Colab\"/></a>"
      ]
    },
    {
      "cell_type": "markdown",
      "metadata": {
        "id": "aFe3HT_vHO9b",
        "colab_type": "text"
      },
      "source": [
        "# **Examen 2: Clasificación de Estados de Sueño**\n",
        "\n",
        "Inicialmente, se procede a descargar los datos correspondientes a cada paciente. Así como realizar la instalación de la librería *pyedflib*, la cual permite la lectura de los datos en formato *.edf* de forma sencilla."
      ]
    },
    {
      "cell_type": "code",
      "metadata": {
        "id": "xGQoQRjn1Bo3",
        "colab_type": "code",
        "outputId": "fbd3c637-217b-4d8e-dd83-7ad1c3653f92",
        "colab": {
          "base_uri": "https://localhost:8080/",
          "height": 1000
        }
      },
      "source": [
        "!pip install pyedflib\n",
        "!wget https://archive.physionet.org/physiobank/database/sleep-edfx/sleep-cassette/SC4001E0-PSG.edf\n",
        "!wget https://archive.physionet.org/physiobank/database/sleep-edfx/sleep-cassette/SC4001EC-Hypnogram.edf\n",
        "\n",
        "!wget https://archive.physionet.org/physiobank/database/sleep-edfx/sleep-cassette/SC4002E0-PSG.edf\n",
        "!wget https://archive.physionet.org/physiobank/database/sleep-edfx/sleep-cassette/SC4002EC-Hypnogram.edf\n",
        "\n",
        "!wget https://archive.physionet.org/physiobank/database/sleep-edfx/sleep-cassette/SC4011E0-PSG.edf\n",
        "!wget https://archive.physionet.org/physiobank/database/sleep-edfx/sleep-cassette/SC4002EC-Hypnogram.edf\n",
        "\n",
        "!wget https://archive.physionet.org/physiobank/database/sleep-edfx/sleep-cassette/SC4012E0-PSG.edf\n",
        "!wget https://archive.physionet.org/physiobank/database/sleep-edfx/sleep-cassette/SC4012EC-Hypnogram.edf\n",
        "\n",
        "!wget https://archive.physionet.org/physiobank/database/sleep-edfx/sleep-cassette/SC4021E0-PSG.edf\n",
        "!wget https://archive.physionet.org/physiobank/database/sleep-edfx/sleep-cassette/SC4021EH-Hypnogram.edf\n",
        "\n",
        "!wget https://archive.physionet.org/physiobank/database/sleep-edfx/sleep-cassette/SC4022E0-PSG.edf\n",
        "!wget https://archive.physionet.org/physiobank/database/sleep-edfx/sleep-cassette/SC4022EJ-Hypnogram.edf"
      ],
      "execution_count": 0,
      "outputs": [
        {
          "output_type": "stream",
          "text": [
            "Collecting pyedflib\n",
            "\u001b[?25l  Downloading https://files.pythonhosted.org/packages/bc/8b/47ce5a889e1f6917390ba2328b494424d018cf9c263ab59e14ac851e194f/pyEDFlib-0.1.15.tar.gz (1.1MB)\n",
            "\r\u001b[K     |▎                               | 10kB 16.8MB/s eta 0:00:01\r\u001b[K     |▋                               | 20kB 6.4MB/s eta 0:00:01\r\u001b[K     |▉                               | 30kB 8.9MB/s eta 0:00:01\r\u001b[K     |█▏                              | 40kB 5.6MB/s eta 0:00:01\r\u001b[K     |█▌                              | 51kB 6.8MB/s eta 0:00:01\r\u001b[K     |█▊                              | 61kB 8.0MB/s eta 0:00:01\r\u001b[K     |██                              | 71kB 9.1MB/s eta 0:00:01\r\u001b[K     |██▍                             | 81kB 10.1MB/s eta 0:00:01\r\u001b[K     |██▋                             | 92kB 11.2MB/s eta 0:00:01\r\u001b[K     |███                             | 102kB 9.0MB/s eta 0:00:01\r\u001b[K     |███▏                            | 112kB 9.0MB/s eta 0:00:01\r\u001b[K     |███▌                            | 122kB 9.0MB/s eta 0:00:01\r\u001b[K     |███▉                            | 133kB 9.0MB/s eta 0:00:01\r\u001b[K     |████                            | 143kB 9.0MB/s eta 0:00:01\r\u001b[K     |████▍                           | 153kB 9.0MB/s eta 0:00:01\r\u001b[K     |████▊                           | 163kB 9.0MB/s eta 0:00:01\r\u001b[K     |█████                           | 174kB 9.0MB/s eta 0:00:01\r\u001b[K     |█████▎                          | 184kB 9.0MB/s eta 0:00:01\r\u001b[K     |█████▋                          | 194kB 9.0MB/s eta 0:00:01\r\u001b[K     |█████▉                          | 204kB 9.0MB/s eta 0:00:01\r\u001b[K     |██████▏                         | 215kB 9.0MB/s eta 0:00:01\r\u001b[K     |██████▍                         | 225kB 9.0MB/s eta 0:00:01\r\u001b[K     |██████▊                         | 235kB 9.0MB/s eta 0:00:01\r\u001b[K     |███████                         | 245kB 9.0MB/s eta 0:00:01\r\u001b[K     |███████▎                        | 256kB 9.0MB/s eta 0:00:01\r\u001b[K     |███████▋                        | 266kB 9.0MB/s eta 0:00:01\r\u001b[K     |████████                        | 276kB 9.0MB/s eta 0:00:01\r\u001b[K     |████████▏                       | 286kB 9.0MB/s eta 0:00:01\r\u001b[K     |████████▌                       | 296kB 9.0MB/s eta 0:00:01\r\u001b[K     |████████▉                       | 307kB 9.0MB/s eta 0:00:01\r\u001b[K     |█████████                       | 317kB 9.0MB/s eta 0:00:01\r\u001b[K     |█████████▍                      | 327kB 9.0MB/s eta 0:00:01\r\u001b[K     |█████████▋                      | 337kB 9.0MB/s eta 0:00:01\r\u001b[K     |██████████                      | 348kB 9.0MB/s eta 0:00:01\r\u001b[K     |██████████▎                     | 358kB 9.0MB/s eta 0:00:01\r\u001b[K     |██████████▌                     | 368kB 9.0MB/s eta 0:00:01\r\u001b[K     |██████████▉                     | 378kB 9.0MB/s eta 0:00:01\r\u001b[K     |███████████▏                    | 389kB 9.0MB/s eta 0:00:01\r\u001b[K     |███████████▍                    | 399kB 9.0MB/s eta 0:00:01\r\u001b[K     |███████████▊                    | 409kB 9.0MB/s eta 0:00:01\r\u001b[K     |████████████                    | 419kB 9.0MB/s eta 0:00:01\r\u001b[K     |████████████▎                   | 430kB 9.0MB/s eta 0:00:01\r\u001b[K     |████████████▋                   | 440kB 9.0MB/s eta 0:00:01\r\u001b[K     |████████████▉                   | 450kB 9.0MB/s eta 0:00:01\r\u001b[K     |█████████████▏                  | 460kB 9.0MB/s eta 0:00:01\r\u001b[K     |█████████████▌                  | 471kB 9.0MB/s eta 0:00:01\r\u001b[K     |█████████████▊                  | 481kB 9.0MB/s eta 0:00:01\r\u001b[K     |██████████████                  | 491kB 9.0MB/s eta 0:00:01\r\u001b[K     |██████████████▍                 | 501kB 9.0MB/s eta 0:00:01\r\u001b[K     |██████████████▋                 | 512kB 9.0MB/s eta 0:00:01\r\u001b[K     |███████████████                 | 522kB 9.0MB/s eta 0:00:01\r\u001b[K     |███████████████▏                | 532kB 9.0MB/s eta 0:00:01\r\u001b[K     |███████████████▌                | 542kB 9.0MB/s eta 0:00:01\r\u001b[K     |███████████████▉                | 552kB 9.0MB/s eta 0:00:01\r\u001b[K     |████████████████                | 563kB 9.0MB/s eta 0:00:01\r\u001b[K     |████████████████▍               | 573kB 9.0MB/s eta 0:00:01\r\u001b[K     |████████████████▊               | 583kB 9.0MB/s eta 0:00:01\r\u001b[K     |█████████████████               | 593kB 9.0MB/s eta 0:00:01\r\u001b[K     |█████████████████▎              | 604kB 9.0MB/s eta 0:00:01\r\u001b[K     |█████████████████▋              | 614kB 9.0MB/s eta 0:00:01\r\u001b[K     |█████████████████▉              | 624kB 9.0MB/s eta 0:00:01\r\u001b[K     |██████████████████▏             | 634kB 9.0MB/s eta 0:00:01\r\u001b[K     |██████████████████▍             | 645kB 9.0MB/s eta 0:00:01\r\u001b[K     |██████████████████▊             | 655kB 9.0MB/s eta 0:00:01\r\u001b[K     |███████████████████             | 665kB 9.0MB/s eta 0:00:01\r\u001b[K     |███████████████████▎            | 675kB 9.0MB/s eta 0:00:01\r\u001b[K     |███████████████████▋            | 686kB 9.0MB/s eta 0:00:01\r\u001b[K     |████████████████████            | 696kB 9.0MB/s eta 0:00:01\r\u001b[K     |████████████████████▏           | 706kB 9.0MB/s eta 0:00:01\r\u001b[K     |████████████████████▌           | 716kB 9.0MB/s eta 0:00:01\r\u001b[K     |████████████████████▉           | 727kB 9.0MB/s eta 0:00:01\r\u001b[K     |█████████████████████           | 737kB 9.0MB/s eta 0:00:01\r\u001b[K     |█████████████████████▍          | 747kB 9.0MB/s eta 0:00:01\r\u001b[K     |█████████████████████▋          | 757kB 9.0MB/s eta 0:00:01\r\u001b[K     |██████████████████████          | 768kB 9.0MB/s eta 0:00:01\r\u001b[K     |██████████████████████▎         | 778kB 9.0MB/s eta 0:00:01\r\u001b[K     |██████████████████████▌         | 788kB 9.0MB/s eta 0:00:01\r\u001b[K     |██████████████████████▉         | 798kB 9.0MB/s eta 0:00:01\r\u001b[K     |███████████████████████▏        | 808kB 9.0MB/s eta 0:00:01\r\u001b[K     |███████████████████████▍        | 819kB 9.0MB/s eta 0:00:01\r\u001b[K     |███████████████████████▊        | 829kB 9.0MB/s eta 0:00:01\r\u001b[K     |████████████████████████        | 839kB 9.0MB/s eta 0:00:01\r\u001b[K     |████████████████████████▎       | 849kB 9.0MB/s eta 0:00:01\r\u001b[K     |████████████████████████▋       | 860kB 9.0MB/s eta 0:00:01\r\u001b[K     |████████████████████████▉       | 870kB 9.0MB/s eta 0:00:01\r\u001b[K     |█████████████████████████▏      | 880kB 9.0MB/s eta 0:00:01\r\u001b[K     |█████████████████████████▌      | 890kB 9.0MB/s eta 0:00:01\r\u001b[K     |█████████████████████████▊      | 901kB 9.0MB/s eta 0:00:01\r\u001b[K     |██████████████████████████      | 911kB 9.0MB/s eta 0:00:01\r\u001b[K     |██████████████████████████▍     | 921kB 9.0MB/s eta 0:00:01\r\u001b[K     |██████████████████████████▋     | 931kB 9.0MB/s eta 0:00:01\r\u001b[K     |███████████████████████████     | 942kB 9.0MB/s eta 0:00:01\r\u001b[K     |███████████████████████████▏    | 952kB 9.0MB/s eta 0:00:01\r\u001b[K     |███████████████████████████▌    | 962kB 9.0MB/s eta 0:00:01\r\u001b[K     |███████████████████████████▉    | 972kB 9.0MB/s eta 0:00:01\r\u001b[K     |████████████████████████████    | 983kB 9.0MB/s eta 0:00:01\r\u001b[K     |████████████████████████████▍   | 993kB 9.0MB/s eta 0:00:01\r\u001b[K     |████████████████████████████▊   | 1.0MB 9.0MB/s eta 0:00:01\r\u001b[K     |█████████████████████████████   | 1.0MB 9.0MB/s eta 0:00:01\r\u001b[K     |█████████████████████████████▎  | 1.0MB 9.0MB/s eta 0:00:01\r\u001b[K     |█████████████████████████████▋  | 1.0MB 9.0MB/s eta 0:00:01\r\u001b[K     |█████████████████████████████▉  | 1.0MB 9.0MB/s eta 0:00:01\r\u001b[K     |██████████████████████████████▏ | 1.1MB 9.0MB/s eta 0:00:01\r\u001b[K     |██████████████████████████████▍ | 1.1MB 9.0MB/s eta 0:00:01\r\u001b[K     |██████████████████████████████▊ | 1.1MB 9.0MB/s eta 0:00:01\r\u001b[K     |███████████████████████████████ | 1.1MB 9.0MB/s eta 0:00:01\r\u001b[K     |███████████████████████████████▎| 1.1MB 9.0MB/s eta 0:00:01\r\u001b[K     |███████████████████████████████▋| 1.1MB 9.0MB/s eta 0:00:01\r\u001b[K     |████████████████████████████████| 1.1MB 9.0MB/s eta 0:00:01\r\u001b[K     |████████████████████████████████| 1.1MB 9.0MB/s \n",
            "\u001b[?25hRequirement already satisfied: numpy>=1.9.1 in /usr/local/lib/python3.6/dist-packages (from pyedflib) (1.17.4)\n",
            "Building wheels for collected packages: pyedflib\n",
            "  Building wheel for pyedflib (setup.py) ... \u001b[?25l\u001b[?25hdone\n",
            "  Created wheel for pyedflib: filename=pyEDFlib-0.1.15-cp36-cp36m-linux_x86_64.whl size=920120 sha256=ad9c44341508a3b448564962b63dc2f0563b496c82345aa96760b469567c1c63\n",
            "  Stored in directory: /root/.cache/pip/wheels/57/e3/8e/ce6236e9ada08b8ff91ef922c7418dbd66f1182dfbb22f8579\n",
            "Successfully built pyedflib\n",
            "Installing collected packages: pyedflib\n",
            "Successfully installed pyedflib-0.1.15\n",
            "--2019-11-22 14:26:57--  https://archive.physionet.org/physiobank/database/sleep-edfx/sleep-cassette/SC4001E0-PSG.edf\n",
            "Resolving archive.physionet.org (archive.physionet.org)... 128.30.30.88\n",
            "Connecting to archive.physionet.org (archive.physionet.org)|128.30.30.88|:443... connected.\n",
            "HTTP request sent, awaiting response... 200 OK\n",
            "Length: 48338048 (46M) [application/octet-stream]\n",
            "Saving to: ‘SC4001E0-PSG.edf’\n",
            "\n",
            "SC4001E0-PSG.edf    100%[===================>]  46.10M  25.6MB/s    in 1.8s    \n",
            "\n",
            "2019-11-22 14:26:59 (25.6 MB/s) - ‘SC4001E0-PSG.edf’ saved [48338048/48338048]\n",
            "\n",
            "--2019-11-22 14:27:01--  https://archive.physionet.org/physiobank/database/sleep-edfx/sleep-cassette/SC4001EC-Hypnogram.edf\n",
            "Resolving archive.physionet.org (archive.physionet.org)... 128.30.30.88\n",
            "Connecting to archive.physionet.org (archive.physionet.org)|128.30.30.88|:443... connected.\n",
            "HTTP request sent, awaiting response... 200 OK\n",
            "Length: 4620 (4.5K) [application/octet-stream]\n",
            "Saving to: ‘SC4001EC-Hypnogram.edf’\n",
            "\n",
            "SC4001EC-Hypnogram. 100%[===================>]   4.51K  --.-KB/s    in 0s      \n",
            "\n",
            "2019-11-22 14:27:01 (764 MB/s) - ‘SC4001EC-Hypnogram.edf’ saved [4620/4620]\n",
            "\n",
            "--2019-11-22 14:27:04--  https://archive.physionet.org/physiobank/database/sleep-edfx/sleep-cassette/SC4002E0-PSG.edf\n",
            "Resolving archive.physionet.org (archive.physionet.org)... 128.30.30.88\n",
            "Connecting to archive.physionet.org (archive.physionet.org)|128.30.30.88|:443... connected.\n",
            "HTTP request sent, awaiting response... 200 OK\n",
            "Length: 51621248 (49M) [application/octet-stream]\n",
            "Saving to: ‘SC4002E0-PSG.edf’\n",
            "\n",
            "SC4002E0-PSG.edf    100%[===================>]  49.23M  26.3MB/s    in 1.9s    \n",
            "\n",
            "2019-11-22 14:27:06 (26.3 MB/s) - ‘SC4002E0-PSG.edf’ saved [51621248/51621248]\n",
            "\n",
            "--2019-11-22 14:27:08--  https://archive.physionet.org/physiobank/database/sleep-edfx/sleep-cassette/SC4002EC-Hypnogram.edf\n",
            "Resolving archive.physionet.org (archive.physionet.org)... 128.30.30.88\n",
            "Connecting to archive.physionet.org (archive.physionet.org)|128.30.30.88|:443... connected.\n",
            "HTTP request sent, awaiting response... 200 OK\n",
            "Length: 4580 (4.5K) [application/octet-stream]\n",
            "Saving to: ‘SC4002EC-Hypnogram.edf’\n",
            "\n",
            "SC4002EC-Hypnogram. 100%[===================>]   4.47K  --.-KB/s    in 0s      \n",
            "\n",
            "2019-11-22 14:27:08 (584 MB/s) - ‘SC4002EC-Hypnogram.edf’ saved [4580/4580]\n",
            "\n",
            "--2019-11-22 14:27:11--  https://archive.physionet.org/physiobank/database/sleep-edfx/sleep-cassette/SC4011E0-PSG.edf\n",
            "Resolving archive.physionet.org (archive.physionet.org)... 128.30.30.88\n",
            "Connecting to archive.physionet.org (archive.physionet.org)|128.30.30.88|:443... connected.\n",
            "HTTP request sent, awaiting response... 200 OK\n",
            "Length: 51110528 (49M) [application/octet-stream]\n",
            "Saving to: ‘SC4011E0-PSG.edf’\n",
            "\n",
            "SC4011E0-PSG.edf    100%[===================>]  48.74M  25.6MB/s    in 1.9s    \n",
            "\n",
            "2019-11-22 14:27:13 (25.6 MB/s) - ‘SC4011E0-PSG.edf’ saved [51110528/51110528]\n",
            "\n",
            "--2019-11-22 14:27:15--  https://archive.physionet.org/physiobank/database/sleep-edfx/sleep-cassette/SC4002EC-Hypnogram.edf\n",
            "Resolving archive.physionet.org (archive.physionet.org)... 128.30.30.88\n",
            "Connecting to archive.physionet.org (archive.physionet.org)|128.30.30.88|:443... connected.\n",
            "HTTP request sent, awaiting response... 200 OK\n",
            "Length: 4580 (4.5K) [application/octet-stream]\n",
            "Saving to: ‘SC4002EC-Hypnogram.edf.1’\n",
            "\n",
            "SC4002EC-Hypnogram. 100%[===================>]   4.47K  --.-KB/s    in 0s      \n",
            "\n",
            "2019-11-22 14:27:16 (737 MB/s) - ‘SC4002EC-Hypnogram.edf.1’ saved [4580/4580]\n",
            "\n",
            "--2019-11-22 14:27:18--  https://archive.physionet.org/physiobank/database/sleep-edfx/sleep-cassette/SC4012E0-PSG.edf\n",
            "Resolving archive.physionet.org (archive.physionet.org)... 128.30.30.88\n",
            "Connecting to archive.physionet.org (archive.physionet.org)|128.30.30.88|:443... connected.\n",
            "HTTP request sent, awaiting response... 200 OK\n",
            "Length: 51986048 (50M) [application/octet-stream]\n",
            "Saving to: ‘SC4012E0-PSG.edf’\n",
            "\n",
            "SC4012E0-PSG.edf    100%[===================>]  49.58M  25.4MB/s    in 2.0s    \n",
            "\n",
            "2019-11-22 14:27:20 (25.4 MB/s) - ‘SC4012E0-PSG.edf’ saved [51986048/51986048]\n",
            "\n",
            "--2019-11-22 14:27:21--  https://archive.physionet.org/physiobank/database/sleep-edfx/sleep-cassette/SC4012EC-Hypnogram.edf\n",
            "Resolving archive.physionet.org (archive.physionet.org)... 128.30.30.88\n",
            "Connecting to archive.physionet.org (archive.physionet.org)|128.30.30.88|:443... connected.\n",
            "HTTP request sent, awaiting response... 200 OK\n",
            "Length: 5082 (5.0K) [application/octet-stream]\n",
            "Saving to: ‘SC4012EC-Hypnogram.edf’\n",
            "\n",
            "SC4012EC-Hypnogram. 100%[===================>]   4.96K  --.-KB/s    in 0s      \n",
            "\n",
            "2019-11-22 14:27:21 (350 MB/s) - ‘SC4012EC-Hypnogram.edf’ saved [5082/5082]\n",
            "\n",
            "--2019-11-22 14:27:23--  https://archive.physionet.org/physiobank/database/sleep-edfx/sleep-cassette/SC4021E0-PSG.edf\n",
            "Resolving archive.physionet.org (archive.physionet.org)... 128.30.30.88\n",
            "Connecting to archive.physionet.org (archive.physionet.org)|128.30.30.88|:443... connected.\n",
            "HTTP request sent, awaiting response... 200 OK\n",
            "Length: 51147008 (49M) [application/octet-stream]\n",
            "Saving to: ‘SC4021E0-PSG.edf’\n",
            "\n",
            "SC4021E0-PSG.edf    100%[===================>]  48.78M  23.4MB/s    in 2.1s    \n",
            "\n",
            "2019-11-22 14:27:25 (23.4 MB/s) - ‘SC4021E0-PSG.edf’ saved [51147008/51147008]\n",
            "\n",
            "--2019-11-22 14:27:26--  https://archive.physionet.org/physiobank/database/sleep-edfx/sleep-cassette/SC4021EH-Hypnogram.edf\n",
            "Resolving archive.physionet.org (archive.physionet.org)... 128.30.30.88\n",
            "Connecting to archive.physionet.org (archive.physionet.org)|128.30.30.88|:443... connected.\n",
            "HTTP request sent, awaiting response... 200 OK\n",
            "Length: 4804 (4.7K) [application/octet-stream]\n",
            "Saving to: ‘SC4021EH-Hypnogram.edf’\n",
            "\n",
            "SC4021EH-Hypnogram. 100%[===================>]   4.69K  --.-KB/s    in 0s      \n",
            "\n",
            "2019-11-22 14:27:27 (746 MB/s) - ‘SC4021EH-Hypnogram.edf’ saved [4804/4804]\n",
            "\n",
            "--2019-11-22 14:27:27--  https://archive.physionet.org/physiobank/database/sleep-edfx/sleep-cassette/SC4022E0-PSG.edf\n",
            "Resolving archive.physionet.org (archive.physionet.org)... 128.30.30.88\n",
            "Connecting to archive.physionet.org (archive.physionet.org)|128.30.30.88|:443... connected.\n",
            "HTTP request sent, awaiting response... 200 OK\n",
            "Length: 50271488 (48M) [application/octet-stream]\n",
            "Saving to: ‘SC4022E0-PSG.edf’\n",
            "\n",
            "SC4022E0-PSG.edf    100%[===================>]  47.94M  24.4MB/s    in 2.0s    \n",
            "\n",
            "2019-11-22 14:27:30 (24.4 MB/s) - ‘SC4022E0-PSG.edf’ saved [50271488/50271488]\n",
            "\n",
            "--2019-11-22 14:27:31--  https://archive.physionet.org/physiobank/database/sleep-edfx/sleep-cassette/SC4022EJ-Hypnogram.edf\n",
            "Resolving archive.physionet.org (archive.physionet.org)... 128.30.30.88\n",
            "Connecting to archive.physionet.org (archive.physionet.org)|128.30.30.88|:443... connected.\n",
            "HTTP request sent, awaiting response... 200 OK\n",
            "Length: 5292 (5.2K) [application/octet-stream]\n",
            "Saving to: ‘SC4022EJ-Hypnogram.edf’\n",
            "\n",
            "SC4022EJ-Hypnogram. 100%[===================>]   5.17K  --.-KB/s    in 0s      \n",
            "\n",
            "2019-11-22 14:27:31 (875 MB/s) - ‘SC4022EJ-Hypnogram.edf’ saved [5292/5292]\n",
            "\n"
          ],
          "name": "stdout"
        }
      ]
    },
    {
      "cell_type": "markdown",
      "metadata": {
        "id": "QxmdnmRZScUm",
        "colab_type": "text"
      },
      "source": [
        "**Lectura de datos y conversión a valores numéricos**"
      ]
    },
    {
      "cell_type": "code",
      "metadata": {
        "id": "rQhSUAIdGvSG",
        "colab_type": "code",
        "outputId": "d5e0b381-e341-4914-fd45-d942d773e66c",
        "colab": {
          "base_uri": "https://localhost:8080/",
          "height": 345
        }
      },
      "source": [
        "import pyedflib as pyedf\n",
        "import numpy as np\n",
        "import matplotlib.pyplot as ptl\n",
        "# Lectura del archivo de estados de sueño (etiquetas)\n",
        "st_FileHypEdf = pyedf.EdfReader(\"SC4002EC-Hypnogram.edf\")\n",
        "#print(st_FileHypEdf)\n",
        "# Datos en ventanas de 30 segundos,\n",
        "#v_HypTime es el tiempo de inicio, v_HypDur es la duración en un estado específico (pueden ser varias ventanas),\n",
        "\n",
        "# v_Hyp es la ETIQUETA.\n",
        "v_HypTime, v_HypDur, v_Hyp = st_FileHypEdf.readAnnotations()\n",
        "\n",
        "#ptl.figure()\n",
        "#ptl.scatter(v_HypTime, v_Hyp)\n",
        "# Lectura de las señales s_SigNum señales con nombres v_Signal_Labels\n",
        "st_FileEdf = pyedf.EdfReader(\"SC4002E0-PSG.edf\")\n",
        "#print(st_FileEdf)\n",
        "s_SigNum = st_FileEdf.signals_in_file\n",
        "#print(s_SigNum)\n",
        "v_Signal_Labels = st_FileEdf.getSignalLabels()\n",
        "# Conversion a segundos usando frecuencia de muestreo.\n",
        "s_SigRef = 0\n",
        "s_NSamples = st_FileEdf.getNSamples()[0]\n",
        "s_FsHz = st_FileEdf.getSampleFrequency(s_SigRef)\n",
        "#print(s_NSamples)\n",
        "# v_Sig = np.zeros((s_NSamples, 1))\n",
        "\n",
        "v_Sig = st_FileEdf.readSignal(s_SigRef)\n",
        "v_Time = np.arange(0, s_NSamples) / s_FsHz\n",
        "\n",
        "s_WinSizeSec = 30\n",
        "s_WinSizeSam = np.round(s_FsHz * s_WinSizeSec)\n",
        "# plot de señales en ventanas de 30s\n",
        "#s_FirstInd = 0\n",
        "#ptl.figure()\n",
        "#while 1:\n",
        "#    s_LastInd = s_FirstInd + s_WinSizeSam\n",
        "#    if s_LastInd > s_NSamples:\n",
        "#        break\n",
        "#    ptl.plot(v_Time[s_FirstInd:s_LastInd], v_Sig[s_FirstInd:s_LastInd], linewidth=1)\n",
        "#    ptl.xlabel('Time (sec)')\n",
        "#    ptl.xlim(v_Time[s_FirstInd], v_Time[s_LastInd - 1])\n",
        "#    ptl.pause(0.05)\n",
        "#    s_FirstInd = s_LastInd\n",
        "#ptl.show()"
      ],
      "execution_count": 0,
      "outputs": [
        {
          "output_type": "error",
          "ename": "OSError",
          "evalue": "ignored",
          "traceback": [
            "\u001b[0;31m---------------------------------------------------------------------------\u001b[0m",
            "\u001b[0;31mOSError\u001b[0m                                   Traceback (most recent call last)",
            "\u001b[0;32m<ipython-input-3-5b2ac9c3bfda>\u001b[0m in \u001b[0;36m<module>\u001b[0;34m()\u001b[0m\n\u001b[1;32m      3\u001b[0m \u001b[0;32mimport\u001b[0m \u001b[0mmatplotlib\u001b[0m\u001b[0;34m.\u001b[0m\u001b[0mpyplot\u001b[0m \u001b[0;32mas\u001b[0m \u001b[0mptl\u001b[0m\u001b[0;34m\u001b[0m\u001b[0;34m\u001b[0m\u001b[0m\n\u001b[1;32m      4\u001b[0m \u001b[0;31m# Lectura del archivo de estados de sueño (etiquetas)\u001b[0m\u001b[0;34m\u001b[0m\u001b[0;34m\u001b[0m\u001b[0;34m\u001b[0m\u001b[0m\n\u001b[0;32m----> 5\u001b[0;31m \u001b[0mst_FileHypEdf\u001b[0m \u001b[0;34m=\u001b[0m \u001b[0mpyedf\u001b[0m\u001b[0;34m.\u001b[0m\u001b[0mEdfReader\u001b[0m\u001b[0;34m(\u001b[0m\u001b[0;34m\"SC4002EC-Hypnogram.edf\"\u001b[0m\u001b[0;34m)\u001b[0m\u001b[0;34m\u001b[0m\u001b[0;34m\u001b[0m\u001b[0m\n\u001b[0m\u001b[1;32m      6\u001b[0m \u001b[0;31m#print(st_FileHypEdf)\u001b[0m\u001b[0;34m\u001b[0m\u001b[0;34m\u001b[0m\u001b[0;34m\u001b[0m\u001b[0m\n\u001b[1;32m      7\u001b[0m \u001b[0;31m# Datos en ventanas de 30 segundos,\u001b[0m\u001b[0;34m\u001b[0m\u001b[0;34m\u001b[0m\u001b[0;34m\u001b[0m\u001b[0m\n",
            "\u001b[0;32mpyedflib/_extensions/_pyedflib.pyx\u001b[0m in \u001b[0;36mpyedflib._extensions._pyedflib.CyEdfReader.__init__\u001b[0;34m()\u001b[0m\n",
            "\u001b[0;32mpyedflib/_extensions/_pyedflib.pyx\u001b[0m in \u001b[0;36mpyedflib._extensions._pyedflib.CyEdfReader.open\u001b[0;34m()\u001b[0m\n",
            "\u001b[0;32mpyedflib/_extensions/_pyedflib.pyx\u001b[0m in \u001b[0;36mpyedflib._extensions._pyedflib.CyEdfReader.check_open_ok\u001b[0;34m()\u001b[0m\n",
            "\u001b[0;31mOSError\u001b[0m: file has already been opened"
          ]
        }
      ]
    },
    {
      "cell_type": "code",
      "metadata": {
        "id": "irUJGNGug1K9",
        "colab_type": "code",
        "outputId": "17833dec-1c67-4184-ec9c-3f298749a91e",
        "colab": {
          "base_uri": "https://localhost:8080/",
          "height": 34
        }
      },
      "source": [
        "print(v_Time[-1],len(v_Time))"
      ],
      "execution_count": 0,
      "outputs": [
        {
          "output_type": "stream",
          "text": [
            "84899.99 8490000\n"
          ],
          "name": "stdout"
        }
      ]
    },
    {
      "cell_type": "markdown",
      "metadata": {
        "id": "gVTzM1tZSTy7",
        "colab_type": "text"
      },
      "source": [
        "**Gráfica de etiquetas respecto al tiempo**"
      ]
    },
    {
      "cell_type": "code",
      "metadata": {
        "id": "zCp_LXy51Lf8",
        "colab_type": "code",
        "outputId": "a50fee9d-dec5-47ed-88eb-a5beea65bb0e",
        "colab": {
          "base_uri": "https://localhost:8080/",
          "height": 282
        }
      },
      "source": [
        "ptl.figure()\n",
        "ptl.scatter(v_HypTime, v_Hyp)\n",
        "print(\"Tiempo:\", len(v_HypTime), \"Etiqueta:\", len(v_Hyp))"
      ],
      "execution_count": 0,
      "outputs": [
        {
          "output_type": "stream",
          "text": [
            "Tiempo: 152 Etiqueta: 152\n"
          ],
          "name": "stdout"
        },
        {
          "output_type": "display_data",
          "data": {
            "image/png": "[encoded data removed]",
            "text/plain": [
              "<Figure size 432x288 with 1 Axes>"
            ]
          },
          "metadata": {
            "tags": []
          }
        }
      ]
    },
    {
      "cell_type": "markdown",
      "metadata": {
        "id": "Ge9xIB7BSkB6",
        "colab_type": "text"
      },
      "source": [
        "# Separación en ventanas de tiempo de 30 segundos"
      ]
    },
    {
      "cell_type": "markdown",
      "metadata": {
        "id": "gk7vmJuNS53m",
        "colab_type": "text"
      },
      "source": [
        "**Etiquetas:** se realizó un muestreo uniforme de las etiquetas anteriormente observadas para intervalos cada 30 segundos."
      ]
    },
    {
      "cell_type": "code",
      "metadata": {
        "id": "ktlIk5LW-2ke",
        "colab_type": "code",
        "outputId": "1e1e939c-eacf-45ea-9805-96277d66a3ab",
        "colab": {
          "base_uri": "https://localhost:8080/",
          "height": 282
        }
      },
      "source": [
        "delta_min = 30\n",
        "tiempo_div = [0]\n",
        "etiquetas = []\n",
        "for i in range(1, len(v_HypTime)): #No se toma el primer punto, ya que corresponde a t=0\n",
        "  if v_HypTime[i] - tiempo_div[-1] <= delta_min:\n",
        "    tiempo_div.append(v_HypTime[i])\n",
        "    etiquetas.append(v_Hyp[i-1])\n",
        "  else:\n",
        "    t = tiempo_div[-1]\n",
        "    while t < v_HypTime[i]:\n",
        "      tiempo_div.append(tiempo_div[-1] + delta_min)\n",
        "      etiquetas.append(v_Hyp[i-1])\n",
        "      t = t + delta_min\n",
        "etiquetas.append(etiquetas[-1])\n",
        "\n",
        "tiempo_div = np.asarray(tiempo_div)\n",
        "etiquetas = np.asarray(etiquetas)\n",
        "\n",
        "ptl.figure()\n",
        "ptl.scatter(tiempo_div, etiquetas)\n",
        "#ptl.xlim(10,100)"
      ],
      "execution_count": 0,
      "outputs": [
        {
          "output_type": "execute_result",
          "data": {
            "text/plain": [
              "<matplotlib.collections.PathCollection at 0x7fdc1b1dd9e8>"
            ]
          },
          "metadata": {
            "tags": []
          },
          "execution_count": 8
        },
        {
          "output_type": "display_data",
          "data": {
            "image/png": "[encoded data removed]",
            "text/plain": [
              "<Figure size 432x288 with 1 Axes>"
            ]
          },
          "metadata": {
            "tags": []
          }
        }
      ]
    },
    {
      "cell_type": "markdown",
      "metadata": {
        "id": "6nNmiWbkS0eq",
        "colab_type": "text"
      },
      "source": [
        "**Señal en tiempo:** corresponde a la actividad cerebral recibida para cada etiqueta durante intervalos de 30 segundos."
      ]
    },
    {
      "cell_type": "code",
      "metadata": {
        "id": "8LzxaA4KFLCk",
        "colab_type": "code",
        "colab": {}
      },
      "source": [
        "datos_sig = []\n",
        "datos_time = []\n",
        "v_Time_list = v_Time.tolist()\n",
        "\n",
        "def find_nearest(array, value):\n",
        "    array = np.asarray(array)\n",
        "    idx = (np.abs(array - value)).argmin()\n",
        "    return array[idx]\n",
        "\n",
        "for i in range(1, len(tiempo_div)):\n",
        "  low_lim = v_Time_list.index( find_nearest(v_Time, tiempo_div[i-1]) )\n",
        "  high_lim = v_Time_list.index( find_nearest(v_Time, tiempo_div[i]) )\n",
        "  datos_sig.append(v_Sig[low_lim:high_lim])\n",
        "  datos_time.append(v_Time[low_lim:high_lim])\n"
      ],
      "execution_count": 0,
      "outputs": []
    },
    {
      "cell_type": "code",
      "metadata": {
        "id": "bjyP2h69K9lB",
        "colab_type": "code",
        "outputId": "eb03d1b3-b4ea-4a5f-f98c-d9e9485d718a",
        "colab": {
          "base_uri": "https://localhost:8080/",
          "height": 34
        }
      },
      "source": [
        "len(datos_sig)"
      ],
      "execution_count": 0,
      "outputs": [
        {
          "output_type": "execute_result",
          "data": {
            "text/plain": [
              "2830"
            ]
          },
          "metadata": {
            "tags": []
          },
          "execution_count": 92
        }
      ]
    },
    {
      "cell_type": "markdown",
      "metadata": {
        "id": "NlRsJE6CUrVY",
        "colab_type": "text"
      },
      "source": [
        "# Preprocesamiento y Obtención de Descriptores"
      ]
    },
    {
      "cell_type": "markdown",
      "metadata": {
        "id": "Gn83nThUU5jr",
        "colab_type": "text"
      },
      "source": [
        ""
      ]
    },
    {
      "cell_type": "code",
      "metadata": {
        "id": "tK03pGZeSILV",
        "colab_type": "code",
        "colab": {}
      },
      "source": [
        ""
      ],
      "execution_count": 0,
      "outputs": []
    },
    {
      "cell_type": "markdown",
      "metadata": {
        "id": "iaF__aTLVImR",
        "colab_type": "text"
      },
      "source": [
        "# Referencias\n",
        "\n",
        "[1] Lozano, Fernando. *Clasificadores Combinados*. Universidad de los Andes (2019)\n",
        "\n",
        "[2] Jrad, Nisrine. Phlypo, Ronald. Congedo, Marco. *SVM feature selection for multidimensional EEG data*\n",
        "\n",
        "[3] Mustafa, Yazıcı. Mustafa, Ulutaş. Classification of EEG signals using time domain features.\n",
        "\n",
        "[4] Palaniappan, Ramaswamy. Mandic, Danilo. *Biometrics from Brain Electrical Activity: A Machine Learning Approach*\n",
        "\n",
        "[5] Mingyuan Zhao ; Mingtian Zhou ; Qingxin Zhu. Ping, Yang. Feature Extraction and Parameters Selection of Classification Model on Brain-Computer Interface\n",
        "\n",
        "[6] Haykin, Simon. *New Directions in Statistical Signal Processing: from Systems to Brains.*\n"
      ]
    },
    {
      "cell_type": "code",
      "metadata": {
        "id": "RcbWSvieaMqz",
        "colab_type": "code",
        "colab": {}
      },
      "source": [
        ""
      ],
      "execution_count": 0,
      "outputs": []
    }
  ]
}