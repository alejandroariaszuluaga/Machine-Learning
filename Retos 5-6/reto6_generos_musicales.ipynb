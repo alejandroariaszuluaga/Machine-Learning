{
  "nbformat": 4,
  "nbformat_minor": 0,
  "metadata": {
    "colab": {
      "name": "reto6_generos-musicales.ipynb",
      "provenance": [],
      "collapsed_sections": [],
      "machine_shape": "hm"
    },
    "kernelspec": {
      "name": "python3",
      "display_name": "Python 3"
    }
  },
  "cells": [
    {
      "cell_type": "markdown",
      "metadata": {
        "id": "CEkSrMquB_6g",
        "colab_type": "text"
      },
      "source": [
        "# **Reto 6: Clasificación de géneros musicales a partir de redes neuronales con backpropagation**"
      ]
    },
    {
      "cell_type": "code",
      "metadata": {
        "id": "oBLBqdm7puxc",
        "colab_type": "code",
        "outputId": "61cbf117-ca9c-4e24-f43b-0ed9ded7eabd",
        "colab": {
          "base_uri": "https://localhost:8080/",
          "height": 238
        }
      },
      "source": [
        "!wget http://millionsongdataset.com/sites/default/files/AdditionalFiles/msd_genre_dataset.zip\n",
        "!unzip msd_genre_dataset.zip\n",
        "!cat msd_genre_dataset.txt | grep -E 'jazz and blues|soul and reggae' > filter_data.csv"
      ],
      "execution_count": 1,
      "outputs": [
        {
          "output_type": "stream",
          "text": [
            "--2019-09-24 23:28:18--  http://millionsongdataset.com/sites/default/files/AdditionalFiles/msd_genre_dataset.zip\n",
            "Resolving millionsongdataset.com (millionsongdataset.com)... 173.231.209.32\n",
            "Connecting to millionsongdataset.com (millionsongdataset.com)|173.231.209.32|:80... connected.\n",
            "HTTP request sent, awaiting response... 200 OK\n",
            "Length: 12656044 (12M) [application/zip]\n",
            "Saving to: ‘msd_genre_dataset.zip’\n",
            "\n",
            "msd_genre_dataset.z 100%[===================>]  12.07M  37.5MB/s    in 0.3s    \n",
            "\n",
            "2019-09-24 23:28:19 (37.5 MB/s) - ‘msd_genre_dataset.zip’ saved [12656044/12656044]\n",
            "\n",
            "Archive:  msd_genre_dataset.zip\n",
            "  inflating: msd_genre_dataset.txt   \n"
          ],
          "name": "stdout"
        }
      ]
    },
    {
      "cell_type": "code",
      "metadata": {
        "id": "wnc-JSL1F0wn",
        "colab_type": "code",
        "colab": {}
      },
      "source": [
        "import pandas as pd\n",
        "import matplotlib.pyplot as plt\n",
        "import io\n",
        "import numpy as np\n",
        "\n",
        "nombres = ['y','ID','Author','Name','x1','x2','x3','x4','x5','x6','x7','x8','x9','x10','x11','x12','x13','x14','x15','x16','x17','x18','x19','x20','x21','x22','x23','x24','x25','x26','x27','x28','x29','x30']\n",
        "datos = pd.read_csv('filter_data.csv', names = nombres)\n",
        "datos = datos.reindex(np.random.permutation(datos.index))\n",
        "\n",
        "data_array = datos.values\n",
        "\n",
        "#Se ignora el artista, la ID y el nombre de la canción\n",
        "relevant_data_0 = np.array([np.delete(x, [1,2,3]) for x in data_array])\n",
        "\n",
        "#Selección de los géneros de interés y conversión a notación binaria (jazz and blues=0, soul and reggae=1)\n",
        "relevant_data_1 = relevant_data_0\n",
        "for x in relevant_data_0:\n",
        "  if x[0] == 'jazz and blues':\n",
        "    x[0] = 0\n",
        "  elif x[0] == 'soul and reggae':\n",
        "    x[0] = 1\n",
        "\n",
        "from sklearn import preprocessing\n",
        "relevant_data_1 = relevant_data_1.astype(np.float)\n",
        "\n",
        "#Separación de datos de entrenamiento, validación y de prueba\n",
        "trainX = preprocessing.normalize(relevant_data_1[2000:,1:])\n",
        "trainY = relevant_data_1[2000:,0]\n",
        "\n",
        "validationX = preprocessing.normalize(relevant_data_1[:1000,1:])\n",
        "validationY = relevant_data_1[:1000,0]\n",
        "\n",
        "testX = preprocessing.normalize(relevant_data_1[1000:2000,1:])\n",
        "testY = relevant_data_1[1000:2000,0]"
      ],
      "execution_count": 0,
      "outputs": []
    },
    {
      "cell_type": "markdown",
      "metadata": {
        "id": "3TEtskxt7zQ0",
        "colab_type": "text"
      },
      "source": [
        "**Entrenamiento con 1 capa escondida**"
      ]
    },
    {
      "cell_type": "code",
      "metadata": {
        "id": "nZYls_1jC3Dq",
        "colab_type": "code",
        "colab": {}
      },
      "source": [
        "def initialize_network(size_hidden_layer):\n",
        "  size_input = len(trainX[0])\n",
        "  size_output = 1 #Para este caso, se utiliza una capa de salida definida por 1 neurona\n",
        "  network = []\n",
        "  hidden_layer = [ {'weights':np.random.rand(size_input+1)} for i in range(size_hidden_layer) ] #Creación de neuronas en la capa oculta con pesos aleatorios\n",
        "  network.append(hidden_layer)\n",
        "  output_layer = [ {'weights':np.random.rand(size_hidden_layer+1)} for i in range(size_output) ] #Creación de neuronas en la última capa de salida\n",
        "  network.append(output_layer)\n",
        "  return network\n",
        "\n",
        "def g(w,x): #Obtención de coeficiente a_j (en una neurona dada)\n",
        "  y = w[-1] #Intercepto con el eje y, o peso con índice w_0\n",
        "  for i in range(len(w)-1):\n",
        "    y += w[i]*x[i]\n",
        "  return y\n",
        "\n",
        "def f_s(a): #Función de activación sigmoide\n",
        "  y = 1/( 1 + np.exp(-a) )\n",
        "  return y\n",
        "\n",
        "def forward_prop(network, x):\n",
        "  z = x #La entrada a la primera capa corresponde a los datos\n",
        "  for layer in network:\n",
        "    z_out = [] #Salida de la capa actual\n",
        "    for neuron in layer:\n",
        "      a = g(neuron['weights'],z)\n",
        "      neuron['z'] = f_s(a) #En este caso, se utiliza una función de activación sigmoide\n",
        "      z_out.append(neuron['z'])\n",
        "    z = z_out #Las entradas a la siguiente capa corresponden a las salidas de la anterior\n",
        "  return z_out\n",
        "\n",
        "def f_s_prime(z):\n",
        "  return z*(1-z)\n",
        "\n",
        "def back_prop(network, y):\n",
        "  #Se realiza un recorrido a partir de la última capa hasta la inicial\n",
        "  for i in reversed(range(len(network))):\n",
        "    current_layer = network[i]\n",
        "    #Creación de un arreglo para guardar el error en cada capa\n",
        "    error = []\n",
        "    #Se obtiene el error propagado\n",
        "    if i!=len(network)-1:\n",
        "      next_layer = network[i+1]\n",
        "      for j in range(len(current_layer)):\n",
        "        e = 0\n",
        "        #Obtención de error en cada neurona y suma ponderada\n",
        "        for neuron in next_layer:\n",
        "          e += neuron['weights'][j] * neuron['delta']\n",
        "        error.append(e)\n",
        "    #Obtención de error en la salida\n",
        "    else:\n",
        "      neuron = current_layer[0]\n",
        "      error.append(y - neuron['z'])\n",
        "    for j in range(len(current_layer)):\n",
        "      neuron = current_layer[j]\n",
        "      neuron['delta'] = error[j] * f_s_prime(neuron['z'])\n",
        "\n",
        "def update_w(network, x, y, rate):\n",
        "  for i in range(len(network)):\n",
        "    current_layer = network[i]\n",
        "    if i != 0:\n",
        "      previous_layer = network[i-1]\n",
        "      z = [neuron['z'] for neuron in previous_layer]\n",
        "    else:\n",
        "      z = x\n",
        "    for neuron in current_layer:\n",
        "      for j in range(len(z)):\n",
        "        neuron['weights'][j] += rate*neuron['delta']*z[j]\n",
        "      neuron['weights'][-1] += rate*neuron['delta']\n",
        "\n",
        "from sklearn.metrics import accuracy_score\n",
        "iteraciones = []\n",
        "def train(network, x, y, rate, num_iterations):\n",
        "  precisiones_entrenamiento = []\n",
        "  for n in range(num_iterations):\n",
        "    outputs = []\n",
        "    #print(\"->Iteración\",n)\n",
        "    for j in range(len(x)):\n",
        "      #Actualización con datos de entrenamiento\n",
        "      z_out = forward_prop(network, x[j])\n",
        "      if z_out[0]>0.5:\n",
        "        z = 1\n",
        "      else:\n",
        "        z = 0\n",
        "      outputs.append(z)\n",
        "      back_prop(network, y[j])\n",
        "      update_w(network, x[j], y[j], rate)\n",
        "\n",
        "    precisiones_entrenamiento.append(accuracy_score(y,outputs))\n",
        "    #print(\"Precisión:\", accuracy_score(y,outputs))\n",
        "  return precisiones_entrenamiento\n",
        "\n",
        "def network_output(network, x_in):\n",
        "  y_out = []\n",
        "  for j in range(len(x_in)):\n",
        "    #Obtención de salidas para datos de entrada\n",
        "    z_out = forward_prop(network, x_in[j])\n",
        "    if z_out[0]>0.5:\n",
        "      z = 1\n",
        "    else:\n",
        "      z = 0\n",
        "    y_out.append(z)\n",
        "  return y_out"
      ],
      "execution_count": 0,
      "outputs": []
    },
    {
      "cell_type": "code",
      "metadata": {
        "id": "BQXY-sLhoODL",
        "colab_type": "code",
        "outputId": "d7499839-714e-41bd-bade-edbff89fe96a",
        "colab": {
          "base_uri": "https://localhost:8080/",
          "height": 300
        }
      },
      "source": [
        "#Prueba de funcionamiento para 1 capa escondida \n",
        "num_its = 15\n",
        "tasa = 1e-1\n",
        "num_neuronas = 5\n",
        "\n",
        "red = initialize_network(num_neuronas)\n",
        "prec = train(red, trainX, trainY, tasa, num_its)\n",
        "\n",
        "plt.plot(range(num_its), prec)\n",
        "plt.xlabel('# Iteraciones')\n",
        "plt.ylabel('Precisión datos de entrenamiento')\n",
        "\n",
        "test_ac = accuracy_score(network_output(red, testX), testY)\n",
        "\n",
        "print(\"Precisión en los datos de prueba de\",test_ac*100,\"%\")"
      ],
      "execution_count": 0,
      "outputs": [
        {
          "output_type": "stream",
          "text": [
            "Precisión en los datos de prueba de 76.4 %\n"
          ],
          "name": "stdout"
        },
        {
          "output_type": "display_data",
          "data": {
            "image/png": "[encoded data removed]",
            "text/plain": [
              "<Figure size 432x288 with 1 Axes>"
            ]
          },
          "metadata": {
            "tags": []
          }
        }
      ]
    },
    {
      "cell_type": "code",
      "metadata": {
        "id": "EuTnsFJDYDS2",
        "colab_type": "code",
        "outputId": "5f551cd8-4f4d-4e9d-ea31-644e175b06b9",
        "colab": {
          "base_uri": "https://localhost:8080/",
          "height": 34
        }
      },
      "source": [
        "#Prueba de funcionamiento para 1 capa escondida ENTRE 2 y 20 NEURONAS\n",
        "\n",
        "Nmin = 2\n",
        "Nmax = 20\n",
        "n_max_ac = 0\n",
        "max_ac = 0\n",
        "vector_val_ac = []\n",
        "tasa = 1e-1\n",
        "num_its = 15\n",
        "\n",
        "for n in range(Nmin,Nmax):\n",
        "  red_n = initialize_network(n)\n",
        "  train(red_n, trainX, trainY, tasa, num_its)\n",
        "  val_ac = accuracy_score(network_output(red_n, validationX), validationY)\n",
        "  vector_val_ac.append(val_ac)\n",
        "  if val_ac>max_ac:\n",
        "    max_ac = val_ac\n",
        "    n_max_ac = n\n",
        "    red_max_ac = red_n\n",
        "\n",
        "predY = network_output(red_max_ac, testX_normalized)\n",
        "print(\"Precisión en datos de prueba\", accuracy_score(network_output(red_max_ac, testX), testY))\n",
        "\n",
        "plt.plot(range(Nmin,Nmax), vector_val_ac)\n",
        "plt.ylim(0.5,1)\n",
        "plt.xlabel('# Neuronas')\n",
        "plt.ylabel('Precisión datos de validación')"
      ],
      "execution_count": 0,
      "outputs": [
        {
          "output_type": "stream",
          "text": [
            "Precisión en datos de prueba 0.782\n"
          ],
          "name": "stdout"
        }
      ]
    },
    {
      "cell_type": "markdown",
      "metadata": {
        "id": "XIGtk4GW7tEm",
        "colab_type": "text"
      },
      "source": [
        "**Entrenamiento con 2 capas escondidas**"
      ]
    },
    {
      "cell_type": "code",
      "metadata": {
        "id": "lnwWIRB920e8",
        "colab_type": "code",
        "colab": {}
      },
      "source": [
        "def initialize_network_2_hidden_layers(size_hidden_layer):\n",
        "  size_input = len(trainX[0])\n",
        "  size_output = 1 #Para este caso, se utiliza una capa de salida definida por 1 neurona\n",
        "  network = []\n",
        "  hidden_layer_1 = [ {'weights':np.random.rand(size_input+1)} for i in range(size_hidden_layer) ] #Creación de neuronas en la capa oculta con pesos aleatorios\n",
        "  network.append(hidden_layer_1)\n",
        "  hidden_layer_2 = [ {'weights':np.random.rand(size_hidden_layer+1)} for i in range(size_hidden_layer) ] #Creación de neuronas en la capa oculta con pesos aleatorios\n",
        "  network.append(hidden_layer_2)\n",
        "  hidden_layer_3 = [ {'weights':np.random.rand(size_hidden_layer+1)} for i in range(size_hidden_layer) ] #Creación de neuronas en la capa oculta con pesos aleatorios\n",
        "  network.append(hidden_layer_3)\n",
        "  output_layer = [ {'weights':np.random.rand(size_hidden_layer+1)} for i in range(size_output) ] #Creación de neuronas en la última capa de salida\n",
        "  network.append(output_layer)\n",
        "  return network\n",
        "\n",
        "def g(w,x): #Obtención de coeficiente a_j (en una neurona dada)\n",
        "  y = w[-1] #Intercepto con el eje y, o peso con índice w_0\n",
        "  for i in range(len(w)-1):\n",
        "    y += w[i]*x[i]\n",
        "  return y\n",
        "\n",
        "def f_s(a): #Función de activación sigmoide\n",
        "  y = 1/( 1 + np.exp(-a) )\n",
        "  return y\n",
        "\n",
        "def forward_prop(network, x):\n",
        "  z = x #La entrada a la primera capa corresponde a los datos\n",
        "  for layer in network:\n",
        "    #print(\"->Capa\")\n",
        "    z_out = [] #Salida de la capa actual\n",
        "    for neuron in layer:\n",
        "      #print(\"-->Neurona\")\n",
        "      a = g(neuron['weights'],z)\n",
        "      neuron['z'] = f_s(a) #En este caso, se utiliza una función de activación sigmoide\n",
        "      z_out.append(neuron['z'])\n",
        "    z = z_out #Las entradas a la siguiente capa corresponden a las salidas de la anterior\n",
        "  return z_out\n",
        "\n",
        "def f_s_prime(z):\n",
        "  return z*(1-z)\n",
        "\n",
        "def back_prop(network, y):\n",
        "  #Se realiza un recorrido a partir de la última capa hasta la inicial\n",
        "  for i in reversed(range(len(network))):\n",
        "    current_layer = network[i]\n",
        "    #Creación de un arreglo para guardar el error en cada capa\n",
        "    error = []\n",
        "    #Se obtiene el error propagado\n",
        "    if i!=len(network)-1:\n",
        "      next_layer = network[i+1]\n",
        "      for j in range(len(current_layer)):\n",
        "        e = 0\n",
        "        #Obtención de error en cada neurona y suma ponderada\n",
        "        for neuron in next_layer:\n",
        "          e += neuron['weights'][j] * neuron['delta']\n",
        "        error.append(e)\n",
        "    #Obtención de error en la salida\n",
        "    else:\n",
        "      neuron = current_layer[0]\n",
        "      error.append(y - neuron['z'])\n",
        "    for j in range(len(current_layer)):\n",
        "      neuron = current_layer[j]\n",
        "      neuron['delta'] = error[j] * f_s_prime(neuron['z'])\n",
        "\n",
        "def update_w(network, x, y, rate):\n",
        "  for i in range(len(network)):\n",
        "    current_layer = network[i]\n",
        "    if i != 0:\n",
        "      previous_layer = network[i-1]\n",
        "      z = [neuron['z'] for neuron in previous_layer]\n",
        "    else:\n",
        "      z = x\n",
        "    for neuron in current_layer:\n",
        "      for j in range(len(z)):\n",
        "        neuron['weights'][j] += rate*neuron['delta']*z[j]\n",
        "      neuron['weights'][-1] += rate*neuron['delta']\n",
        "\n",
        "from sklearn.metrics import accuracy_score\n",
        "iteraciones = []\n",
        "def train(network, x, y, rate, num_iterations):\n",
        "  precisiones_entrenamiento = []\n",
        "  for n in range(num_iterations):\n",
        "    outputs = []\n",
        "    for j in range(len(x)):\n",
        "      #Actualización con datos de entrenamiento\n",
        "      z_out = forward_prop(network, x[j])\n",
        "      if z_out[0]>0.5:\n",
        "        z = 1\n",
        "      else:\n",
        "        z = 0\n",
        "      outputs.append(z)\n",
        "      back_prop(network, y[j])\n",
        "      update_w(network, x[j], y[j], rate)\n",
        "\n",
        "    precisiones_entrenamiento.append(accuracy_score(y,outputs))\n",
        "    #print(\"Iteración:\",n,\"Precisión:\",accuracy_score(y,outputs))\n",
        "  return precisiones_entrenamiento\n",
        "\n",
        "def network_output(network, x_in):\n",
        "  y_out = []\n",
        "  for j in range(len(x_in)):\n",
        "    #Obtención de salidas para datos de entrada\n",
        "    z_out = forward_prop(network, x_in[j])\n",
        "    if z_out[0]>0.5:\n",
        "      z = 1\n",
        "    else:\n",
        "      z = 0\n",
        "    y_out.append(z)\n",
        "  return y_out"
      ],
      "execution_count": 0,
      "outputs": []
    },
    {
      "cell_type": "code",
      "metadata": {
        "id": "VV94spN2tAP6",
        "colab_type": "code",
        "outputId": "521e03bf-db5c-4a10-da83-4d061d2cea79",
        "colab": {
          "base_uri": "https://localhost:8080/",
          "height": 822
        }
      },
      "source": [
        "#Prueba de funcionamiento para 3 capas escondidas \n",
        "num_its = 30\n",
        "tasa = 1\n",
        "num_neuronas = 3\n",
        "\n",
        "red = initialize_network_2_hidden_layers(num_neuronas)\n",
        "prec = train(red, trainX, trainY, tasa, num_its)\n",
        "\n",
        "plt.plot(range(num_its), prec)\n",
        "plt.title('3 capas escondidas')\n",
        "plt.xlabel('# Iteraciones')\n",
        "plt.ylabel('Precisión datos de entrenamiento')\n",
        "\n",
        "test_ac = accuracy_score(network_output(red, testX), testY)\n",
        "\n",
        "print(\"Precisión en los datos de prueba de\",test_ac*100,\"%\")"
      ],
      "execution_count": 0,
      "outputs": [
        {
          "output_type": "stream",
          "text": [
            "Iteración: 0 Precisión: 0.5022047244094489\n",
            "Iteración: 1 Precisión: 0.5018897637795275\n",
            "Iteración: 2 Precisión: 0.5018897637795275\n",
            "Iteración: 3 Precisión: 0.5017322834645669\n",
            "Iteración: 4 Precisión: 0.5017322834645669\n",
            "Iteración: 5 Precisión: 0.5018897637795275\n",
            "Iteración: 6 Precisión: 0.5018897637795275\n",
            "Iteración: 7 Precisión: 0.5018897637795275\n",
            "Iteración: 8 Precisión: 0.5018897637795275\n",
            "Iteración: 9 Precisión: 0.5018897637795275\n",
            "Iteración: 10 Precisión: 0.5018897637795275\n",
            "Iteración: 11 Precisión: 0.5020472440944882\n",
            "Iteración: 12 Precisión: 0.5022047244094489\n",
            "Iteración: 13 Precisión: 0.5022047244094489\n",
            "Iteración: 14 Precisión: 0.5022047244094489\n",
            "Iteración: 15 Precisión: 0.5020472440944882\n",
            "Iteración: 16 Precisión: 0.5023622047244094\n",
            "Iteración: 17 Precisión: 0.5045669291338583\n",
            "Iteración: 18 Precisión: 0.6530708661417323\n",
            "Iteración: 19 Precisión: 0.7444094488188976\n",
            "Iteración: 20 Precisión: 0.7559055118110236\n",
            "Iteración: 21 Precisión: 0.7615748031496063\n",
            "Iteración: 22 Precisión: 0.7670866141732283\n",
            "Iteración: 23 Precisión: 0.7696062992125984\n",
            "Iteración: 24 Precisión: 0.7724409448818897\n",
            "Iteración: 25 Precisión: 0.7727559055118111\n",
            "Iteración: 26 Precisión: 0.7737007874015748\n",
            "Iteración: 27 Precisión: 0.7768503937007875\n",
            "Iteración: 28 Precisión: 0.777007874015748\n",
            "Iteración: 29 Precisión: 0.7781102362204725\n",
            "Precisión en los datos de prueba de 79.10000000000001 %\n"
          ],
          "name": "stdout"
        },
        {
          "output_type": "display_data",
          "data": {
            "image/png": "[encoded data removed]",
            "text/plain": [
              "<Figure size 432x288 with 1 Axes>"
            ]
          },
          "metadata": {
            "tags": []
          }
        }
      ]
    },
    {
      "cell_type": "code",
      "metadata": {
        "id": "LzL8VwPoxiYq",
        "colab_type": "code",
        "colab": {
          "base_uri": "https://localhost:8080/",
          "height": 289
        },
        "outputId": "7c8bb9bd-401d-44d3-af99-706158d60ebc"
      },
      "source": [
        "#Prueba de funcionamiento para 1 capa escondida ENTRE 2 y 20 NEURONAS\n",
        "\n",
        "Nmin = 2\n",
        "Nmax = 20\n",
        "n_max_ac = 0\n",
        "max_ac = 0\n",
        "vector_val_ac = []\n",
        "tasa = 1\n",
        "num_its = 20\n",
        "\n",
        "for n in range(Nmin,Nmax):\n",
        "  print(\"->Neuronas\",n)\n",
        "  red_n = initialize_network_2_hidden_layers(n)\n",
        "  train(red_n, trainX, trainY, tasa, num_its)\n",
        "  val_ac = accuracy_score(network_output(red_n, validationX), validationY)\n",
        "  vector_val_ac.append(val_ac)\n",
        "  if val_ac>max_ac:\n",
        "    max_ac = val_ac\n",
        "    n_max_ac = n\n",
        "    red_max_ac = red_n\n",
        "\n",
        "predY = network_output(red_max_ac, testX)\n",
        "print(\"Precisión en datos de prueba\", accuracy_score(network_output(red_max_ac, testX), testY))\n",
        "\n",
        "plt.plot(range(Nmin,Nmax), vector_val_ac)\n",
        "plt.ylim(0.5,1)\n",
        "plt.xlabel('# Neuronas')\n",
        "plt.ylabel('Precisión datos de validación')"
      ],
      "execution_count": 0,
      "outputs": [
        {
          "output_type": "stream",
          "text": [
            "->Neuronas 2\n",
            "->Neuronas 3\n",
            "->Neuronas 4\n",
            "->Neuronas 5\n",
            "->Neuronas 6\n",
            "->Neuronas 7\n",
            "->Neuronas 8\n",
            "->Neuronas 9\n",
            "->Neuronas 10\n",
            "->Neuronas 11\n",
            "->Neuronas 12\n",
            "->Neuronas 13\n",
            "->Neuronas 14\n",
            "->Neuronas 15\n",
            "->Neuronas 16\n",
            "->Neuronas 17\n"
          ],
          "name": "stdout"
        }
      ]
    },
    {
      "cell_type": "code",
      "metadata": {
        "id": "rAJjeCLC_dHo",
        "colab_type": "code",
        "colab": {}
      },
      "source": [
        ""
      ],
      "execution_count": 0,
      "outputs": []
    }
  ]
}