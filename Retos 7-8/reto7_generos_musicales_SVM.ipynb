{
  "nbformat": 4,
  "nbformat_minor": 0,
  "metadata": {
    "colab": {
      "name": "reto7_generos-musicales_SVM.ipynb",
      "provenance": [],
      "collapsed_sections": [],
      "machine_shape": "hm"
    },
    "kernelspec": {
      "name": "python3",
      "display_name": "Python 3"
    }
  },
  "cells": [
    {
      "cell_type": "markdown",
      "metadata": {
        "id": "CEkSrMquB_6g",
        "colab_type": "text"
      },
      "source": [
        "# **Reto 7: Clasificación de géneros musicales a partir de SVM**\n",
        "\n",
        "Inicialmente, se procede a importar los datos, ejecutar la celda a continuación para descargar el archivo correspondiente y únicamente emplear los géneros *jazz and blues* y *soul and reggae* con el fin de tener un problema de clasificación balanceado."
      ]
    },
    {
      "cell_type": "code",
      "metadata": {
        "id": "oBLBqdm7puxc",
        "colab_type": "code",
        "outputId": "b3ebb4a0-0c71-4e04-df76-5b94a793b116",
        "colab": {
          "base_uri": "https://localhost:8080/",
          "height": 238
        }
      },
      "source": [
        "!wget http://millionsongdataset.com/sites/default/files/AdditionalFiles/msd_genre_dataset.zip\n",
        "!unzip msd_genre_dataset.zip\n",
        "!cat msd_genre_dataset.txt | grep -E 'jazz and blues|soul and reggae' > filter_data.csv"
      ],
      "execution_count": 1,
      "outputs": [
        {
          "output_type": "stream",
          "text": [
            "--2019-10-29 17:32:16--  http://millionsongdataset.com/sites/default/files/AdditionalFiles/msd_genre_dataset.zip\n",
            "Resolving millionsongdataset.com (millionsongdataset.com)... 173.231.209.32\n",
            "Connecting to millionsongdataset.com (millionsongdataset.com)|173.231.209.32|:80... connected.\n",
            "HTTP request sent, awaiting response... 200 OK\n",
            "Length: 12656044 (12M) [application/zip]\n",
            "Saving to: ‘msd_genre_dataset.zip’\n",
            "\n",
            "msd_genre_dataset.z 100%[===================>]  12.07M  5.94MB/s    in 2.0s    \n",
            "\n",
            "2019-10-29 17:32:19 (5.94 MB/s) - ‘msd_genre_dataset.zip’ saved [12656044/12656044]\n",
            "\n",
            "Archive:  msd_genre_dataset.zip\n",
            "  inflating: msd_genre_dataset.txt   \n"
          ],
          "name": "stdout"
        }
      ]
    },
    {
      "cell_type": "markdown",
      "metadata": {
        "id": "vbu9oLT4O-wg",
        "colab_type": "text"
      },
      "source": [
        "**Separación y normalización de parámetros:** ejecutar la celda a continuación para aleatorizar las posiciones de los datos, de forma que el entrenamiento no se realice con los mismos datos en todas las ocasiones. Igualmente, se tienen 8350 datos, de los cuales se emplearon 1000 como datos validación, 1000 como datos de prueba y el resto fueron utilizados durante el entrenamiento. Adicionalmente, se realizó un proceso de normalización a partir de un centrado y escalamiento de los datos, esto mediante la resta de la media y la división de este resultado entre la desviación estándar."
      ]
    },
    {
      "cell_type": "code",
      "metadata": {
        "id": "wnc-JSL1F0wn",
        "colab_type": "code",
        "colab": {}
      },
      "source": [
        "import pandas as pd\n",
        "import matplotlib.pyplot as plt\n",
        "import io\n",
        "import numpy as np\n",
        "from sklearn.metrics import accuracy_score\n",
        "\n",
        "nombres = ['y','ID','Author','Name','x1','x2','x3','x4','x5','x6','x7','x8','x9','x10','x11','x12','x13','x14','x15','x16','x17','x18','x19','x20','x21','x22','x23','x24','x25','x26','x27','x28','x29','x30']\n",
        "datos = pd.read_csv('filter_data.csv', names = nombres)\n",
        "datos = datos.reindex(np.random.permutation(datos.index))\n",
        "data_array = datos.values\n",
        "\n",
        "#Se ignora el artista, la ID y el nombre de la canción\n",
        "relevant_data_0 = np.array([np.delete(x, [1,2,3]) for x in data_array])\n",
        "\n",
        "#Selección de los géneros de interés y conversión a notación binaria (jazz and blues=0, soul and reggae=1)\n",
        "relevant_data_1 = relevant_data_0\n",
        "for x in relevant_data_0:\n",
        "  if x[0] == 'jazz and blues':\n",
        "    x[0] = -1\n",
        "  elif x[0] == 'soul and reggae':\n",
        "    x[0] = 1\n",
        "\n",
        "relevant_data_1 = (relevant_data_1.astype(np.float))\n",
        "dataX_raw = relevant_data_1[:,1:]\n",
        "#Normalización de datos\n",
        "dataX = ( dataX_raw - np.mean(dataX_raw) ) / np.std(dataX_raw)\n",
        "dataY = relevant_data_1[:,0]\n",
        "\n",
        "#Separación de datos de entrenamiento, validación y de prueba\n",
        "trainX_raw = relevant_data_1[2000:,1:]\n",
        "trainX = dataX[2000:]\n",
        "trainY = dataY[2000:]\n",
        "\n",
        "validationX = dataX[:1000]\n",
        "validationY = dataY[:1000]\n",
        "\n",
        "testX = dataX[1000:2000]\n",
        "testY = dataY[1000:2000]"
      ],
      "execution_count": 0,
      "outputs": []
    },
    {
      "cell_type": "markdown",
      "metadata": {
        "id": "nFqxHN4lQicD",
        "colab_type": "text"
      },
      "source": [
        "# Selección de modelo SVM\n",
        "Según los requerimientos solicitados en este reto, se utilizará un kernel gaussiano, correspondiente a: $k(x_i, x_j)=exp(-\\frac{|x_i-x_j|^2}{2\\sigma^2})$."
      ]
    },
    {
      "cell_type": "markdown",
      "metadata": {
        "id": "mJ4_UQxgnQwB",
        "colab_type": "text"
      },
      "source": [
        "**Variación de C (parámetro inversamente proporcional a la regularización):** en primer lugar, se realizó una variación del parámetro C, cuyo significado se relaciona de la siguiente forma: para mayores valores, se aceptará un menor margen de error, es decir, correspondiente a un mayor ajuste a los datos de entrenamiento, y por lo tanto, un aumento en la complejidad del modelo obtenido (puede producir *overfitting*); por el contrario, para valores pequeños de C, se aceptará mayor cantidad de errores de clasificación en el entrenamiento, reduciendo así la complejidad del modelo. Por lo tanto, con el fin de encontrar un valor apropiado que permita balancear la complejidad del modelo, se realizó un ciclo de prueba con distintos valores de C, validando su precisión y separando el mejor de los casos."
      ]
    },
    {
      "cell_type": "code",
      "metadata": {
        "id": "_qZzKBECE-Sv",
        "colab_type": "code",
        "colab": {}
      },
      "source": [
        "from sklearn.svm import SVC\n",
        "\n",
        "train_ac = []\n",
        "val_ac = []\n",
        "max_val_ac = 0\n",
        "max_val_ac_C = 0\n",
        "C_min = -3\n",
        "C_max = 3\n",
        "\n",
        "exp = np.linspace(C_min, C_max, 50)\n",
        "\n",
        "for i in range(len(exp)):\n",
        "  sv_clf = SVC(C = 10**(exp[i]), kernel = 'rbf', gamma = 'auto')\n",
        "  sv_clf.fit(trainX,trainY)\n",
        "\n",
        "  pred_trainY = sv_clf.predict(trainX)\n",
        "  pred_valY = sv_clf.predict(validationX)\n",
        "  #print(\"Regularización log(C)=\",exp[i])\n",
        "  prec_val = accuracy_score(pred_valY,validationY)\n",
        "  prec_train = accuracy_score(pred_trainY,trainY)\n",
        "  #print(\"->Precisión en datos de entrenamiento:\", prec_train)\n",
        "  #print(\"->Precisión en datos de validación:\", prec_val)\n",
        "  train_ac.append(prec_train)\n",
        "  val_ac.append(prec_val)\n",
        "  if prec_val > max_val_ac:\n",
        "    max_val_ac = prec_val\n",
        "    sv_best_clf = sv_clf\n",
        "    max_val_ac_C = exp[i]"
      ],
      "execution_count": 0,
      "outputs": []
    },
    {
      "cell_type": "code",
      "metadata": {
        "id": "WUrdp3edvU6R",
        "colab_type": "code",
        "outputId": "ced0421a-f662-42a5-e1f2-ecee086c64f8",
        "colab": {
          "base_uri": "https://localhost:8080/",
          "height": 331
        }
      },
      "source": [
        "test_ac = accuracy_score(sv_best_clf.predict(testX),testY)\n",
        "print(\"-->Mejor clasificador con log_10(C)=\",max_val_ac_C,\"y precisión en datos de prueba:\", test_ac)\n",
        "\n",
        "fig, ax = plt.subplots()\n",
        "ax.plot(exp, train_ac, label='Precisión de entrenamiento')\n",
        "ax.plot(exp, val_ac, label='Precisión de validación')\n",
        "ax.legend()\n",
        "plt.xlabel(\"Regularización, log_10(C)\")\n",
        "plt.ylabel(\"Precisión\")\n",
        "plt.title(\"Entrenamiento de modelo SVM con kernel gaussiano\")"
      ],
      "execution_count": 19,
      "outputs": [
        {
          "output_type": "stream",
          "text": [
            "-->Mejor clasificador con log_10(C)= 2.387755102040816 y precisión en datos de prueba: 0.842\n"
          ],
          "name": "stdout"
        },
        {
          "output_type": "execute_result",
          "data": {
            "text/plain": [
              "Text(0.5, 1.0, 'Entrenamiento de modelo SVM con kernel gaussiano')"
            ]
          },
          "metadata": {
            "tags": []
          },
          "execution_count": 19
        },
        {
          "output_type": "display_data",
          "data": {
            "image/png": "[encoded data removed]",
            "text/plain": [
              "<Figure size 432x288 with 1 Axes>"
            ]
          },
          "metadata": {
            "tags": []
          }
        }
      ]
    },
    {
      "cell_type": "markdown",
      "metadata": {
        "id": "ZS0SpOf3nVNK",
        "colab_type": "text"
      },
      "source": [
        "**Variación de $\\gamma$ (gamma):** en segundo lugar, se realizó una variación del parámetro $\\gamma$, el cual determina un factor de proporcionalidad en el resultado obtenido tras emplear los datos $x_i$ y $x_j$ como entradas."
      ]
    },
    {
      "cell_type": "code",
      "metadata": {
        "id": "utxndVqX51XV",
        "colab_type": "code",
        "colab": {}
      },
      "source": [
        "train_ac = []\n",
        "val_ac = []\n",
        "max_val_ac = 0\n",
        "max_val_ac_gamma = 0\n",
        "gamma_min = 1e-3\n",
        "gamma_max = 0.1\n",
        "\n",
        "gamma_value = np.linspace(gamma_min, gamma_max, 50)\n",
        "\n",
        "for i in range(len(gamma_value)):\n",
        "  sv_clf = SVC(C = 10**max_val_ac_C, kernel = 'rbf', gamma = gamma_value[i])\n",
        "  sv_clf.fit(trainX,trainY)\n",
        "\n",
        "  pred_trainY = sv_clf.predict(trainX)\n",
        "  pred_valY = sv_clf.predict(validationX)\n",
        "  print(\"Kernel con gamma=\",gamma_value[i])\n",
        "  prec_val = accuracy_score(pred_valY,validationY)\n",
        "  prec_train = accuracy_score(pred_trainY,trainY)\n",
        "  #print(\"->Precisión en datos de entrenamiento:\", prec_train)\n",
        "  #print(\"->Precisión en datos de validación:\", prec_val)\n",
        "  train_ac.append(prec_train)\n",
        "  val_ac.append(prec_val)\n",
        "  if prec_val > max_val_ac:\n",
        "    max_val_ac = prec_val\n",
        "    best_clf = sv_clf\n",
        "    max_val_ac_gamma = gamma_value[i]"
      ],
      "execution_count": 0,
      "outputs": []
    },
    {
      "cell_type": "code",
      "metadata": {
        "id": "41Zt-M7QojQn",
        "colab_type": "code",
        "colab": {
          "base_uri": "https://localhost:8080/",
          "height": 329
        },
        "outputId": "84f25c6f-151f-4aed-bde3-0401489613bd"
      },
      "source": [
        "test_ac = accuracy_score(best_clf.predict(testX),testY)\n",
        "print(\"-->Mejor clasificador con gamma=\",max_val_ac_gamma,\"y precisión en datos de prueba:\", test_ac)\n",
        "\n",
        "fig, ax = plt.subplots()\n",
        "ax.plot(gamma_value, train_ac, label='Precisión de entrenamiento')\n",
        "ax.plot(gamma_value, val_ac, label='Precisión de validación')\n",
        "ax.legend()\n",
        "plt.xlabel(\"Gamma\")\n",
        "plt.ylabel(\"Precisión\")\n",
        "plt.title(\"Entrenamiento de modelo SVM con kernel gaussiano\")"
      ],
      "execution_count": 21,
      "outputs": [
        {
          "output_type": "stream",
          "text": [
            "-->Mejor clasificador con gamma= 0.02928571428571429 y precisión en datos de prueba: 0.842\n"
          ],
          "name": "stdout"
        },
        {
          "output_type": "execute_result",
          "data": {
            "text/plain": [
              "Text(0.5, 1.0, 'Entrenamiento de modelo SVM con kernel gaussiano')"
            ]
          },
          "metadata": {
            "tags": []
          },
          "execution_count": 21
        },
        {
          "output_type": "display_data",
          "data": {
            "image/png": "[encoded data removed]",
            "text/plain": [
              "<Figure size 432x288 with 1 Axes>"
            ]
          },
          "metadata": {
            "tags": []
          }
        }
      ]
    },
    {
      "cell_type": "markdown",
      "metadata": {
        "id": "nha_0SHRnMXl",
        "colab_type": "text"
      },
      "source": [
        "**Empleando el valor $\\gamma=\\frac{1}{n*var(X)}$:** se realizó una comparación del desempeño del modelo respecto al recorrido realizado en el paso anterior, obteniendo los siguientes resultados."
      ]
    },
    {
      "cell_type": "code",
      "metadata": {
        "id": "T3o7SCN2m_-_",
        "colab_type": "code",
        "colab": {
          "base_uri": "https://localhost:8080/",
          "height": 85
        },
        "outputId": "3ddb3f08-d0b1-4870-ee5e-d58120c8e46a"
      },
      "source": [
        "sv_clf_scale = SVC(C = 10**max_val_ac_C, kernel = 'rbf', gamma = 'scale')\n",
        "sv_clf_scale.fit(trainX,trainY)\n",
        "\n",
        "pred_trainY = sv_clf_scale.predict(trainX)\n",
        "pred_valY = sv_clf_scale.predict(validationX)\n",
        "pred_testY = sv_clf_scale.predict(testX)\n",
        "print(\"Kernel con gamma=1/n*X.var()\")\n",
        "prec_train = accuracy_score(pred_trainY,trainY)\n",
        "prec_val = accuracy_score(pred_valY,validationY)\n",
        "prec_test = accuracy_score(pred_testY,testY)\n",
        "print(\"->Precisión en datos de entrenamiento:\", prec_train)\n",
        "print(\"->Precisión en datos de validación:\", prec_val)\n",
        "print(\"->Precisión en datos de prueba:\", prec_test)"
      ],
      "execution_count": 17,
      "outputs": [
        {
          "output_type": "stream",
          "text": [
            "Kernel con gamma=1/n*X.var()\n",
            "->Precisión en datos de entrenamiento: 0.8678740157480315\n",
            "->Precisión en datos de validación: 0.833\n",
            "->Precisión en datos de prueba: 0.844\n"
          ],
          "name": "stdout"
        }
      ]
    },
    {
      "cell_type": "markdown",
      "metadata": {
        "id": "6V7I7K6qvhnG",
        "colab_type": "text"
      },
      "source": [
        "**Conclusión final:** el mejor modelo emplea como parámetros: el valor de C obtenido al realizar un recorrido de forma logarítmica, e igualmente, empleando el valor de $\\gamma=\\frac{1}{n*var(X)}$, el cual se tiene definido por defecto en la función de la librería *sklearn*."
      ]
    },
    {
      "cell_type": "markdown",
      "metadata": {
        "id": "y4CJPhnLMKlR",
        "colab_type": "text"
      },
      "source": [
        "# Referencias\n",
        "\n",
        "[1] RBF SVM parameters. Disponible en línea en: https://scikit-learn.org/stable/auto_examples/svm/plot_rbf_parameters.html\n",
        "\n",
        "[2] Lozano, Fernando. Support Vector Machines. Universidad de los Andes (2019)"
      ]
    },
    {
      "cell_type": "code",
      "metadata": {
        "id": "d0XA2AxVzPmQ",
        "colab_type": "code",
        "colab": {}
      },
      "source": [
        ""
      ],
      "execution_count": 0,
      "outputs": []
    }
  ]
}