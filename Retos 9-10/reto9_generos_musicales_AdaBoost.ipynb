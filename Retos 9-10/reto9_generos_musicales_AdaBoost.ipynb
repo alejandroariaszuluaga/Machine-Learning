{
  "nbformat": 4,
  "nbformat_minor": 0,
  "metadata": {
    "colab": {
      "name": "reto9_generos-musicales_AdaBoost.ipynb",
      "provenance": [],
      "collapsed_sections": [],
      "machine_shape": "hm"
    },
    "kernelspec": {
      "name": "python3",
      "display_name": "Python 3"
    }
  },
  "cells": [
    {
      "cell_type": "markdown",
      "metadata": {
        "id": "CEkSrMquB_6g",
        "colab_type": "text"
      },
      "source": [
        "# **Reto 9: Clasificación de géneros musicales a partir de AdaBoost**\n",
        "\n",
        "Inicialmente, se procede a importar los datos, ejecutar la celda a continuación para descargar el archivo correspondiente y únicamente emplear los géneros *jazz and blues* y *soul and reggae* con el fin de tener un problema de clasificación balanceado."
      ]
    },
    {
      "cell_type": "code",
      "metadata": {
        "id": "oBLBqdm7puxc",
        "colab_type": "code",
        "outputId": "2fb7e4d0-a050-44eb-8897-3d76bc5d2d71",
        "colab": {
          "base_uri": "https://localhost:8080/",
          "height": 238
        }
      },
      "source": [
        "!wget http://millionsongdataset.com/sites/default/files/AdditionalFiles/msd_genre_dataset.zip\n",
        "!unzip msd_genre_dataset.zip\n",
        "!cat msd_genre_dataset.txt | grep -E 'jazz and blues|soul and reggae' > filter_data.csv"
      ],
      "execution_count": 1,
      "outputs": [
        {
          "output_type": "stream",
          "text": [
            "--2019-11-10 13:23:26--  http://millionsongdataset.com/sites/default/files/AdditionalFiles/msd_genre_dataset.zip\n",
            "Resolving millionsongdataset.com (millionsongdataset.com)... 173.231.209.32\n",
            "Connecting to millionsongdataset.com (millionsongdataset.com)|173.231.209.32|:80... connected.\n",
            "HTTP request sent, awaiting response... 200 OK\n",
            "Length: 12656044 (12M) [application/zip]\n",
            "Saving to: ‘msd_genre_dataset.zip’\n",
            "\n",
            "msd_genre_dataset.z 100%[===================>]  12.07M  37.6MB/s    in 0.3s    \n",
            "\n",
            "2019-11-10 13:23:26 (37.6 MB/s) - ‘msd_genre_dataset.zip’ saved [12656044/12656044]\n",
            "\n",
            "Archive:  msd_genre_dataset.zip\n",
            "  inflating: msd_genre_dataset.txt   \n"
          ],
          "name": "stdout"
        }
      ]
    },
    {
      "cell_type": "markdown",
      "metadata": {
        "id": "vbu9oLT4O-wg",
        "colab_type": "text"
      },
      "source": [
        "**Separación y normalización de parámetros:** ejecutar la celda a continuación para aleatorizar las posiciones de los datos, de forma que el entrenamiento no se realice con los mismos datos en todas las ocasiones. Igualmente, se tienen 8350 datos, de los cuales se emplearon 1000 como datos validación, 1000 como datos de prueba y el resto fueron utilizados durante el entrenamiento. Adicionalmente, se realizó un proceso de normalización a partir de un centrado y escalamiento de los datos, esto mediante la resta de la media y la división de este resultado entre la desviación estándar."
      ]
    },
    {
      "cell_type": "code",
      "metadata": {
        "id": "wnc-JSL1F0wn",
        "colab_type": "code",
        "colab": {}
      },
      "source": [
        "import pandas as pd\n",
        "import matplotlib.pyplot as plt\n",
        "import io\n",
        "import numpy as np\n",
        "from sklearn.metrics import accuracy_score\n",
        "from sklearn.ensemble import AdaBoostClassifier\n",
        "\n",
        "nombres = ['y','ID','Author','Name','x1','x2','x3','x4','x5','x6','x7','x8','x9','x10','x11','x12','x13','x14','x15','x16','x17','x18','x19','x20','x21','x22','x23','x24','x25','x26','x27','x28','x29','x30']\n",
        "datos = pd.read_csv('filter_data.csv', names = nombres)\n",
        "datos = datos.reindex(np.random.permutation(datos.index))\n",
        "data_array = datos.values\n",
        "\n",
        "#Se ignora el artista, la ID y el nombre de la canción\n",
        "relevant_data_0 = np.array([np.delete(x, [1,2,3]) for x in data_array])\n",
        "\n",
        "#Selección de los géneros de interés y conversión a notación binaria (jazz and blues=0, soul and reggae=1)\n",
        "relevant_data_1 = relevant_data_0\n",
        "for x in relevant_data_0:\n",
        "  if x[0] == 'jazz and blues':\n",
        "    x[0] = 0\n",
        "  elif x[0] == 'soul and reggae':\n",
        "    x[0] = 1\n",
        "\n",
        "relevant_data_1 = (relevant_data_1.astype(np.float))\n",
        "dataX_raw = relevant_data_1[:,1:]\n",
        "#Normalización de datos\n",
        "dataX = ( dataX_raw - np.mean(dataX_raw) ) / np.std(dataX_raw)\n",
        "dataY = relevant_data_1[:,0]\n",
        "\n",
        "#Separación de datos de entrenamiento, validación y de prueba\n",
        "trainX_raw = relevant_data_1[2000:,1:]\n",
        "trainX = dataX[2000:]\n",
        "trainY = dataY[2000:]\n",
        "\n",
        "validationX = dataX[:1000]\n",
        "validationY = dataY[:1000]\n",
        "\n",
        "testX = dataX[1000:2000]\n",
        "testY = dataY[1000:2000]"
      ],
      "execution_count": 0,
      "outputs": []
    },
    {
      "cell_type": "markdown",
      "metadata": {
        "id": "oHNraj9KfufF",
        "colab_type": "text"
      },
      "source": [
        "# Entrenamiento y selección de modelo\n",
        "\n",
        "Inicialmente, se crea un clasificador con árboles de decisión como clasificadores base, para esto se define el parámetro *base_estimator=None*. Además, el parámetro *n_estimators* corresponde al número máximo de clasificadores empleado (en las diapositivas de clase este parámetro se denota como $T$)."
      ]
    },
    {
      "cell_type": "code",
      "metadata": {
        "id": "DzcNcbQ3rVFk",
        "colab_type": "code",
        "colab": {}
      },
      "source": [
        "train_ac = []\n",
        "val_ac = []\n",
        "max_val_ac = 0\n",
        "max_val_ac_T = 0\n",
        "T_min = 1\n",
        "T_max = 1000\n",
        "\n",
        "T = range(T_min, T_max)\n",
        "\n",
        "for i in range(len(T)):\n",
        "  adaboost_clf = AdaBoostClassifier(base_estimator=None, n_estimators=T[i])\n",
        "  adaboost_clf.fit(trainX, trainY)\n",
        "\n",
        "  #print(\"Número de clasificadores=\",T[i])\n",
        "  prec_val = adaboost_clf.score(validationX,validationY)\n",
        "  prec_train = adaboost_clf.score(trainX,trainY)\n",
        "  #print(\"->Precisión en datos de entrenamiento:\", prec_train)\n",
        "  #print(\"->Precisión en datos de validación:\", prec_val)\n",
        "  train_ac.append(prec_train)\n",
        "  val_ac.append(prec_val)\n",
        "  if prec_val > max_val_ac:\n",
        "    max_val_ac = prec_val\n",
        "    adaboost_best_clf = adaboost_clf\n",
        "    max_val_ac_T = T[i]"
      ],
      "execution_count": 0,
      "outputs": []
    },
    {
      "cell_type": "code",
      "metadata": {
        "id": "DdywpwgIuPF6",
        "colab_type": "code",
        "colab": {
          "base_uri": "https://localhost:8080/",
          "height": 329
        },
        "outputId": "52830497-6ae9-42b0-8c7f-1013414fee8e"
      },
      "source": [
        "test_ac = adaboost_best_clf.score(testX,testY)\n",
        "print(\"-->Mejor clasificador con T=\",max_val_ac_T,\"y precisión en datos de prueba:\", test_ac)\n",
        "\n",
        "fig, ax = plt.subplots()\n",
        "ax.plot(T, train_ac, label='Precisión de entrenamiento')\n",
        "ax.plot(T, val_ac, label='Precisión de validación')\n",
        "ax.legend()\n",
        "plt.xlabel(\"T\")\n",
        "plt.ylabel(\"Precisión\")\n",
        "plt.title(\"Entrenamiento de modelo AdaBoost\")"
      ],
      "execution_count": 50,
      "outputs": [
        {
          "output_type": "stream",
          "text": [
            "-->Mejor clasificador con T= 160 y precisión en datos de prueba: 0.831\n"
          ],
          "name": "stdout"
        },
        {
          "output_type": "execute_result",
          "data": {
            "text/plain": [
              "Text(0.5, 1.0, 'Entrenamiento de modelo AdaBoost')"
            ]
          },
          "metadata": {
            "tags": []
          },
          "execution_count": 50
        },
        {
          "output_type": "display_data",
          "data": {
            "image/png": "[encoded data removed]",
            "text/plain": [
              "<Figure size 432x288 with 1 Axes>"
            ]
          },
          "metadata": {
            "tags": []
          }
        }
      ]
    },
    {
      "cell_type": "markdown",
      "metadata": {
        "id": "SjCrG02AvrIO",
        "colab_type": "text"
      },
      "source": [
        "**Conclusiones**\n",
        "\n",
        "-Al realizar una variación del número de clasificadores empleado (T) se observó una relación directa entre la precisión del modelo en los datos de entrenamiento y de validación, ya que no se produjo *overfitting* en ninguno de los casos evaluados (la precisión de validación no se vio reducida significativamente a partir de algún valor de T).\n",
        "\n",
        "-Sin embargo, se sugiere determinar un valor óptimo de T (en este caso, se podría escoger un valor entre 150 y 200, ya que la precisión de validación no aumenta considerablemente para valores mayores) con el fin de evitar *overfitting* en algún problema distinto al observado en este caso, ya que se tuvo un gran conjunto de datos de entrenamiento en un problema balanceado y de clasificación binaria."
      ]
    },
    {
      "cell_type": "markdown",
      "metadata": {
        "id": "y4CJPhnLMKlR",
        "colab_type": "text"
      },
      "source": [
        "# Referencias\n",
        "\n",
        "[1] Sklearn AdaBoost Classifier. Disponible en línea en: https://scikit-learn.org/stable/modules/generated/sklearn.ensemble.AdaBoostClassifier.html\n",
        "\n",
        "[2] Lozano, Fernando. Clasificadores Combinados. Universidad de los Andes (2019)"
      ]
    },
    {
      "cell_type": "code",
      "metadata": {
        "id": "d0XA2AxVzPmQ",
        "colab_type": "code",
        "colab": {}
      },
      "source": [
        ""
      ],
      "execution_count": 0,
      "outputs": []
    }
  ]
}