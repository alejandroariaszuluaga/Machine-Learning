{
  "nbformat": 4,
  "nbformat_minor": 0,
  "metadata": {
    "colab": {
      "name": "reto10_generos-musicales_AdaBoost.ipynb",
      "provenance": [],
      "collapsed_sections": [],
      "machine_shape": "hm"
    },
    "kernelspec": {
      "name": "python3",
      "display_name": "Python 3"
    }
  },
  "cells": [
    {
      "cell_type": "markdown",
      "metadata": {
        "id": "CEkSrMquB_6g",
        "colab_type": "text"
      },
      "source": [
        "# **Reto 10: Clasificación de géneros musicales a partir de implementación propia de AdaBoost**\n",
        "\n",
        "Inicialmente, se procede a importar los datos, ejecutar la celda a continuación para descargar el archivo correspondiente y únicamente emplear los géneros *jazz and blues* y *soul and reggae* con el fin de tener un problema de clasificación balanceado."
      ]
    },
    {
      "cell_type": "code",
      "metadata": {
        "id": "oBLBqdm7puxc",
        "colab_type": "code",
        "outputId": "785e80b9-e54a-40ee-d7c1-3afda824e9b9",
        "colab": {
          "base_uri": "https://localhost:8080/",
          "height": 255
        }
      },
      "source": [
        "!wget http://millionsongdataset.com/sites/default/files/AdditionalFiles/msd_genre_dataset.zip\n",
        "!unzip msd_genre_dataset.zip\n",
        "!cat msd_genre_dataset.txt | grep -E 'jazz and blues|soul and reggae' > filter_data.csv"
      ],
      "execution_count": 7,
      "outputs": [
        {
          "output_type": "stream",
          "text": [
            "--2019-11-14 18:19:35--  http://millionsongdataset.com/sites/default/files/AdditionalFiles/msd_genre_dataset.zip\n",
            "Resolving millionsongdataset.com (millionsongdataset.com)... 173.231.209.32\n",
            "Connecting to millionsongdataset.com (millionsongdataset.com)|173.231.209.32|:80... connected.\n",
            "HTTP request sent, awaiting response... 200 OK\n",
            "Length: 12656044 (12M) [application/zip]\n",
            "Saving to: ‘msd_genre_dataset.zip.1’\n",
            "\n",
            "msd_genre_dataset.z 100%[===================>]  12.07M  2.94MB/s    in 4.8s    \n",
            "\n",
            "2019-11-14 18:19:40 (2.53 MB/s) - ‘msd_genre_dataset.zip.1’ saved [12656044/12656044]\n",
            "\n",
            "Archive:  msd_genre_dataset.zip\n",
            "replace msd_genre_dataset.txt? [y]es, [n]o, [A]ll, [N]one, [r]ename: y\n",
            "  inflating: msd_genre_dataset.txt   \n"
          ],
          "name": "stdout"
        }
      ]
    },
    {
      "cell_type": "markdown",
      "metadata": {
        "id": "vbu9oLT4O-wg",
        "colab_type": "text"
      },
      "source": [
        "**Separación y normalización de parámetros:** ejecutar la celda a continuación para aleatorizar las posiciones de los datos, de forma que el entrenamiento no se realice con los mismos datos en todas las ocasiones. Igualmente, se tienen 8350 datos, de los cuales se emplearon 1000 como datos validación, 1000 como datos de prueba y el resto fueron utilizados durante el entrenamiento. Adicionalmente, se realizó un proceso de normalización a partir de un centrado y escalamiento de los datos, esto mediante la resta de la media y la división de este resultado entre la desviación estándar."
      ]
    },
    {
      "cell_type": "code",
      "metadata": {
        "id": "wnc-JSL1F0wn",
        "colab_type": "code",
        "colab": {}
      },
      "source": [
        "import pandas as pd\n",
        "import matplotlib.pyplot as plt\n",
        "import io\n",
        "import numpy as np\n",
        "from sklearn.metrics import accuracy_score\n",
        "from sklearn.tree import DecisionTreeClassifier\n",
        "from sklearn.preprocessing import normalize\n",
        "from sklearn.ensemble import AdaBoostClassifier\n",
        "\n",
        "nombres = ['y','ID','Author','Name','x1','x2','x3','x4','x5','x6','x7','x8','x9','x10','x11','x12','x13','x14','x15','x16','x17','x18','x19','x20','x21','x22','x23','x24','x25','x26','x27','x28','x29','x30']\n",
        "datos = pd.read_csv('filter_data.csv', names = nombres)\n",
        "datos = datos.reindex(np.random.permutation(datos.index))\n",
        "data_array = datos.values\n",
        "\n",
        "#Se ignora el artista, la ID y el nombre de la canción\n",
        "relevant_data_0 = np.array([np.delete(x, [1,2,3]) for x in data_array])\n",
        "\n",
        "#Selección de los géneros de interés y conversión a notación binaria (jazz and blues=0, soul and reggae=1)\n",
        "relevant_data_1 = relevant_data_0\n",
        "for x in relevant_data_0:\n",
        "  if x[0] == 'jazz and blues':\n",
        "    x[0] = -1\n",
        "  elif x[0] == 'soul and reggae':\n",
        "    x[0] = 1\n",
        "\n",
        "relevant_data_1 = (relevant_data_1.astype(np.float))\n",
        "dataX_raw = relevant_data_1[:,1:]\n",
        "#Normalización de datos\n",
        "dataX = ( dataX_raw - np.mean(dataX_raw) ) / np.std(dataX_raw)\n",
        "dataY = relevant_data_1[:,0]\n",
        "\n",
        "#Separación de datos de entrenamiento, validación y de prueba\n",
        "trainX_raw = relevant_data_1[2000:,1:]\n",
        "trainX = dataX[2000:]\n",
        "trainY = dataY[2000:]\n",
        "\n",
        "validationX = dataX[:1000]\n",
        "validationY = dataY[:1000]\n",
        "\n",
        "testX = dataX[1000:2000]\n",
        "testY = dataY[1000:2000]"
      ],
      "execution_count": 0,
      "outputs": []
    },
    {
      "cell_type": "markdown",
      "metadata": {
        "id": "oHNraj9KfufF",
        "colab_type": "text"
      },
      "source": [
        "# Entrenamiento y selección de modelo\n",
        "\n",
        "Se emplearon las referencias [1] y [2] como base para el desarrollo de este modelo el cual consiste en: definir ciertos pesos para cada uno de los datos de entrenamiento (se tienen $D_i$ para cada $x_i$ con $i=1,...,n$), de modo que estos se actualicen tras cada iteración, representando el error de clasificación para la iteración anterior. Igualmente, se tendrán T iteraciones, obteniendo un clasificador (denotado $h_t$) para además asociar un valor $\\alpha_t$ el cual determina su peso dentro de la decisión final dada por el signo final de la expresión: $\\sum^{T}_{i=1}{\\alpha_t h_t(x_i)}$.\n",
        "\n",
        "La función realizada a continuación recibe como parámetros los datos de entrenamiento, así como el número de clasificadores a utilizar ($T$)."
      ]
    },
    {
      "cell_type": "markdown",
      "metadata": {
        "id": "AoiEo9uCHy5w",
        "colab_type": "text"
      },
      "source": [
        "**Algoritmo AdaBoost**\n",
        "\n",
        "Este método de clasificadores combinados realiza $T$ iteraciones, actualizando el valor de cada peso $D_t(i)$ siempre normalizando estos valores, de modo que $\\sum_{i=1}^{n}{D_t(i)} = 1$ empleando como punto de partida para la primera iteración $D_t(i)=\\frac{1}{n}, i=1,...,n$ donde $n$ corresponde al número de datos de entrenamiento.\n",
        "\n",
        "Ahora, el proceso a seguir realiza los siguientes pasos:\n",
        "\n",
        "1. Entrenamiento de un clasificador $h_t$ a partir de los datos pesados con $D_t$.\n",
        "\n",
        "2. Obtención de error $\\epsilon_t$ dado por la sumatoria de los pesos asociados a los datos en los cuales se cometió error de clasificación ($\\sum_{i:h_t(x_i)\\ne y_i} {D_t(i)}$).\n",
        "\n",
        "3. Igualmente, se obtiene un parámetro $\\alpha = \\frac{1}{2} \\ln{(\\frac{1-\\epsilon_t}{\\epsilon_t})}$, el cual determinará el peso asociado a la decisión de clasificación del estimador $h_t$.\n",
        "\n",
        "4. Se actualizan los pesos para la siguiente iteración a partir de la relación $D_{t+1} = \\frac{D_t(i) exp(-\\alpha_t y_i h_t(x_i))}{Z_t}$ con $Z_t=\\sum^n_{i=1}{D(i)}$ con el fin de normalizar su valor. Cabe aclarar que esta relación aumenta el valor de los pesos en los cuales se cometió error de clasificación, y disminuye los correspondientes a los acertados.\n",
        "\n",
        "Finalmente, tras obtener todos los clasificadores $h_t$ y sus pesos $\\alpha_t$ correspondientes, se realiza una estimación final de la clase a partir del signo (-1 o 1) de la función $f(x_i) = \\sum^T_{t=1}{\\alpha_t h_t(x_i)}$.\n",
        "\n"
      ]
    },
    {
      "cell_type": "code",
      "metadata": {
        "id": "DzcNcbQ3rVFk",
        "colab_type": "code",
        "colab": {}
      },
      "source": [
        "def AB_propio(x, y, T):\n",
        "  n = len(y)\n",
        "  h_vec = []\n",
        "  yPred_vec = []\n",
        "  e_vec = []\n",
        "  alpha_vec = []\n",
        "  D_vec = []\n",
        "\n",
        "  D_actual = np.ones(n) / n\n",
        "  D_vec.append(D_actual.copy())\n",
        "\n",
        "  for t in range(T):\n",
        "    #Se emplea un clasificador de árbol de decisión con profundidad 1 y 2 nodos\n",
        "    h_t = DecisionTreeClassifier(max_depth = 1, max_leaf_nodes = 2)\n",
        "    h_t.fit(x, y, sample_weight = D_actual)\n",
        "    yPred = h_t.predict(x)\n",
        "\n",
        "    errores = np.zeros(n)\n",
        "    e_t = 0\n",
        "    for i in range(n):\n",
        "      if yPred[i] != y[i]:\n",
        "        e_t += D_actual[i]\n",
        "\n",
        "    alpha_t = (1/2)*np.log( (1 - e_t) / (e_t) )\n",
        "    \n",
        "    D_t = np.zeros(n)\n",
        "    for i in range(n):\n",
        "      D_t[i] = D_actual[i] * np.exp(-alpha_t * y[i] * yPred[i])\n",
        "    Z_t = (D_t).sum()\n",
        "    D_actual = D_t / Z_t\n",
        "\n",
        "    h_vec.append(h_t)\n",
        "    yPred_vec.append(yPred.copy())\n",
        "    e_vec.append(e_t.copy())\n",
        "    alpha_vec.append(alpha_t.copy())\n",
        "    D_vec.append(D_actual.copy())\n",
        "  h_vec = np.asarray(h_vec)\n",
        "  yPred_vec = np.asarray(yPred_vec)\n",
        "  e_vec = np.asarray(e_vec)\n",
        "  alpha_vec = np.asarray(alpha_vec)\n",
        "  D_vec = np.asarray(D_vec)\n",
        "\n",
        "  y_hPred = np.zeros(n)\n",
        "  for i in range(n):\n",
        "    y_hPred[i] = np.sign( ( yPred_vec[:,i]*alpha_vec ).sum() )\n",
        "  #print(\"Precisión de entrenamiento con \",T ,\"estimadores:\", accuracy_score(y_hPred,y))\n",
        "\n",
        "  return h_vec, alpha_vec, accuracy_score(y_hPred,y)\n",
        "\n",
        "def AB_predict(x, h_vec, alpha_vec):\n",
        "  n = len(x)\n",
        "  T = len(h_vec)\n",
        "  yPred_h = []\n",
        "  for t in range(T):\n",
        "    yPred_h.append(h_vec[t].predict(x))\n",
        "  yPred_h = np.asarray(yPred_h)\n",
        "  yPred = np.zeros(n)\n",
        "  for i in range(n):\n",
        "    yPred[i] = np.sign( ( yPred_h[:,i]*alpha_vec ).sum() )\n",
        "  return yPred"
      ],
      "execution_count": 0,
      "outputs": []
    },
    {
      "cell_type": "code",
      "metadata": {
        "id": "nXH67UZBJgzJ",
        "colab_type": "code",
        "outputId": "7f846869-a740-4acd-ac01-dc2af176d114",
        "colab": {
          "base_uri": "https://localhost:8080/",
          "height": 51
        }
      },
      "source": [
        "h_vec, alpha_vec, ac = AB_propio(trainX, trainY, 30)\n",
        "yPred_val = AB_predict(validationX, h_vec, alpha_vec)\n",
        "\n",
        "print(\"Precisión de entrenamiento: \", ac)\n",
        "print(\"Precisión de validación: \", accuracy_score(yPred_val, validationY))"
      ],
      "execution_count": 10,
      "outputs": [
        {
          "output_type": "stream",
          "text": [
            "Precisión de entrenamiento:  0.8420472440944882\n",
            "Precisión de validación:  0.822\n"
          ],
          "name": "stdout"
        }
      ]
    },
    {
      "cell_type": "markdown",
      "metadata": {
        "id": "On1b2irxIy2_",
        "colab_type": "text"
      },
      "source": [
        "# Selección de modelo\n",
        "Posteriormente, se realiza una variación del número de estimadores, con el fin de observar el progreso de la precisión en datos de entrenamiento y validación con respecto al aumento del parámetro $T$."
      ]
    },
    {
      "cell_type": "code",
      "metadata": {
        "id": "wtcZ31IAiQRa",
        "colab_type": "code",
        "colab": {}
      },
      "source": [
        "train_ac = []\n",
        "val_ac = []\n",
        "max_val_ac = 0\n",
        "max_val_ac_T = 0\n",
        "T_min = 1\n",
        "T_max = 100\n",
        "\n",
        "T = range(T_min, T_max)\n",
        "\n",
        "for i in range(len(T)):\n",
        "  h_vec, alpha_vec, prec_train = AB_propio(trainX, trainY, T[i])\n",
        "  yPred_val = AB_predict(validationX, h_vec, alpha_vec)\n",
        "\n",
        "  #print(\"Número de clasificadores=\",T[i])\n",
        "  prec_val = accuracy_score(yPred_val,validationY)\n",
        "  #print(\"->Precisión en datos de entrenamiento:\", prec_train)\n",
        "  #print(\"->Precisión en datos de validación:\", prec_val)\n",
        "  train_ac.append(prec_train)\n",
        "  val_ac.append(prec_val)\n",
        "  if prec_val > max_val_ac:\n",
        "    max_val_ac = prec_val\n",
        "    AB_best_h_vec = h_vec\n",
        "    AB_best_alpha_vec = alpha_vec\n",
        "    max_val_ac_T = T[i]"
      ],
      "execution_count": 0,
      "outputs": []
    },
    {
      "cell_type": "code",
      "metadata": {
        "id": "W_iaCDQ_jjvv",
        "colab_type": "code",
        "outputId": "a4286bea-f6cb-4a72-d41d-52a14ade779f",
        "colab": {
          "base_uri": "https://localhost:8080/",
          "height": 329
        }
      },
      "source": [
        "yPred_test = AB_predict(testX, AB_best_h_vec, AB_best_alpha_vec)\n",
        "test_ac = accuracy_score(yPred_test, testY)\n",
        "print(\"-->Mejor clasificador con T=\",max_val_ac_T,\"y precisión en datos de prueba:\", test_ac)\n",
        "\n",
        "fig, ax = plt.subplots()\n",
        "ax.plot(T, train_ac, label='Precisión de entrenamiento')\n",
        "ax.plot(T, val_ac, label='Precisión de validación')\n",
        "ax.legend()\n",
        "plt.xlabel(\"T\")\n",
        "plt.ylabel(\"Precisión\")\n",
        "plt.title(\"Entrenamiento de modelo AdaBoost\")"
      ],
      "execution_count": 14,
      "outputs": [
        {
          "output_type": "stream",
          "text": [
            "-->Mejor clasificador con T= 76 y precisión en datos de prueba: 0.806\n"
          ],
          "name": "stdout"
        },
        {
          "output_type": "execute_result",
          "data": {
            "text/plain": [
              "Text(0.5, 1.0, 'Entrenamiento de modelo AdaBoost')"
            ]
          },
          "metadata": {
            "tags": []
          },
          "execution_count": 14
        },
        {
          "output_type": "display_data",
          "data": {
            "image/png": "[encoded data removed]",
            "text/plain": [
              "<Figure size 432x288 with 1 Axes>"
            ]
          },
          "metadata": {
            "tags": []
          }
        }
      ]
    },
    {
      "cell_type": "markdown",
      "metadata": {
        "id": "SjCrG02AvrIO",
        "colab_type": "text"
      },
      "source": [
        "**Conclusiones**\n",
        "\n",
        "-Al realizar una variación del número de clasificadores empleado (T) se observó una relación directa entre la precisión del modelo en los datos de entrenamiento y de validación, ya que no se produjo *overfitting* en ninguno de los casos evaluados (la precisión de validación no se vio reducida significativamente a partir de algún valor de T).\n",
        "\n",
        "-Sin embargo, se sugiere determinar un valor óptimo de T (en este caso, se podría escoger un valor entre 150 y 200, ya que la precisión de validación no aumenta considerablemente para valores mayores) con el fin de evitar *overfitting* en algún problema distinto al observado en este caso, ya que se tuvo un gran conjunto de datos de entrenamiento en un problema balanceado y de clasificación binaria."
      ]
    },
    {
      "cell_type": "markdown",
      "metadata": {
        "id": "y4CJPhnLMKlR",
        "colab_type": "text"
      },
      "source": [
        "# Referencias\n",
        "\n",
        "[1] AdaBoost: Implementation and intuition. Disponible en línea en: https://xavierbourretsicotte.github.io/AdaBoost.html\n",
        "\n",
        "[2] Lozano, Fernando. Clasificadores Combinados. Universidad de los Andes (2019)\n",
        "\n",
        "[3] Sklearn: DecisionTreeClassifier. Disponible en línea en: https://scikit-learn.org/stable/modules/generated/sklearn.tree.DecisionTreeClassifier.html#sklearn.tree.DecisionTreeClassifier.fit\n"
      ]
    },
    {
      "cell_type": "code",
      "metadata": {
        "id": "C0VmkOqvFbc7",
        "colab_type": "code",
        "outputId": "af25adb1-8aa8-41a1-bef1-16d0b0bca4e8",
        "colab": {
          "base_uri": "https://localhost:8080/",
          "height": 51
        }
      },
      "source": [
        "a = [2, 3, 4]\n",
        "b = a.copy()\n",
        "a.append(2)\n",
        "print(a)\n",
        "print(b)"
      ],
      "execution_count": 0,
      "outputs": [
        {
          "output_type": "stream",
          "text": [
            "[2, 3, 4, 2]\n",
            "[2, 3, 4]\n"
          ],
          "name": "stdout"
        }
      ]
    },
    {
      "cell_type": "code",
      "metadata": {
        "id": "cCLzrxIw8L1S",
        "colab_type": "code",
        "colab": {}
      },
      "source": [
        ""
      ],
      "execution_count": 0,
      "outputs": []
    }
  ]
}